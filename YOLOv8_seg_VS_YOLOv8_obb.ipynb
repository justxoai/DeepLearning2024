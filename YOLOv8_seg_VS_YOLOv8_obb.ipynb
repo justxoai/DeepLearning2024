{
  "nbformat": 4,
  "nbformat_minor": 0,
  "metadata": {
    "colab": {
      "provenance": [],
      "gpuType": "T4",
      "authorship_tag": "ABX9TyPMVpw5T8UOWW2jfPJ+zUYH",
      "include_colab_link": true
    },
    "kernelspec": {
      "name": "python3",
      "display_name": "Python 3"
    },
    "language_info": {
      "name": "python"
    },
    "accelerator": "GPU"
  },
  "cells": [
    {
      "cell_type": "markdown",
      "metadata": {
        "id": "view-in-github",
        "colab_type": "text"
      },
      "source": [
        "<a href=\"https://colab.research.google.com/github/justxoai/DeepLearning2024/blob/main/YOLOv8_seg_VS_YOLOv8_obb.ipynb\" target=\"_parent\"><img src=\"https://colab.research.google.com/assets/colab-badge.svg\" alt=\"Open In Colab\"/></a>"
      ]
    },
    {
      "cell_type": "code",
      "source": [
        "!pip install roboflow\n",
        "from roboflow import Roboflow\n",
        "\n",
        "!pip install -q ultralytics\n",
        "from ultralytics import YOLO\n",
        "\n",
        "import os\n",
        "import shutil"
      ],
      "metadata": {
        "colab": {
          "base_uri": "https://localhost:8080/"
        },
        "id": "2tjBkVyKDEKd",
        "outputId": "c50a6843-68c7-47b2-e7ff-025eff95ddf7"
      },
      "execution_count": 1,
      "outputs": [
        {
          "output_type": "stream",
          "name": "stdout",
          "text": [
            "Collecting roboflow\n",
            "  Downloading roboflow-1.1.45-py3-none-any.whl.metadata (9.7 kB)\n",
            "Requirement already satisfied: certifi in /usr/local/lib/python3.10/dist-packages (from roboflow) (2024.8.30)\n",
            "Collecting idna==3.7 (from roboflow)\n",
            "  Downloading idna-3.7-py3-none-any.whl.metadata (9.9 kB)\n",
            "Requirement already satisfied: cycler in /usr/local/lib/python3.10/dist-packages (from roboflow) (0.12.1)\n",
            "Requirement already satisfied: kiwisolver>=1.3.1 in /usr/local/lib/python3.10/dist-packages (from roboflow) (1.4.7)\n",
            "Requirement already satisfied: matplotlib in /usr/local/lib/python3.10/dist-packages (from roboflow) (3.7.1)\n",
            "Requirement already satisfied: numpy>=1.18.5 in /usr/local/lib/python3.10/dist-packages (from roboflow) (1.26.4)\n",
            "Requirement already satisfied: opencv-python-headless==4.10.0.84 in /usr/local/lib/python3.10/dist-packages (from roboflow) (4.10.0.84)\n",
            "Requirement already satisfied: Pillow>=7.1.2 in /usr/local/lib/python3.10/dist-packages (from roboflow) (10.4.0)\n",
            "Requirement already satisfied: python-dateutil in /usr/local/lib/python3.10/dist-packages (from roboflow) (2.8.2)\n",
            "Collecting python-dotenv (from roboflow)\n",
            "  Downloading python_dotenv-1.0.1-py3-none-any.whl.metadata (23 kB)\n",
            "Requirement already satisfied: requests in /usr/local/lib/python3.10/dist-packages (from roboflow) (2.32.3)\n",
            "Requirement already satisfied: six in /usr/local/lib/python3.10/dist-packages (from roboflow) (1.16.0)\n",
            "Requirement already satisfied: urllib3>=1.26.6 in /usr/local/lib/python3.10/dist-packages (from roboflow) (2.2.3)\n",
            "Requirement already satisfied: tqdm>=4.41.0 in /usr/local/lib/python3.10/dist-packages (from roboflow) (4.66.5)\n",
            "Requirement already satisfied: PyYAML>=5.3.1 in /usr/local/lib/python3.10/dist-packages (from roboflow) (6.0.2)\n",
            "Collecting requests-toolbelt (from roboflow)\n",
            "  Downloading requests_toolbelt-1.0.0-py2.py3-none-any.whl.metadata (14 kB)\n",
            "Collecting filetype (from roboflow)\n",
            "  Downloading filetype-1.2.0-py2.py3-none-any.whl.metadata (6.5 kB)\n",
            "Requirement already satisfied: contourpy>=1.0.1 in /usr/local/lib/python3.10/dist-packages (from matplotlib->roboflow) (1.3.0)\n",
            "Requirement already satisfied: fonttools>=4.22.0 in /usr/local/lib/python3.10/dist-packages (from matplotlib->roboflow) (4.53.1)\n",
            "Requirement already satisfied: packaging>=20.0 in /usr/local/lib/python3.10/dist-packages (from matplotlib->roboflow) (24.1)\n",
            "Requirement already satisfied: pyparsing>=2.3.1 in /usr/local/lib/python3.10/dist-packages (from matplotlib->roboflow) (3.1.4)\n",
            "Requirement already satisfied: charset-normalizer<4,>=2 in /usr/local/lib/python3.10/dist-packages (from requests->roboflow) (3.3.2)\n",
            "Downloading roboflow-1.1.45-py3-none-any.whl (80 kB)\n",
            "\u001b[2K   \u001b[90m━━━━━━━━━━━━━━━━━━━━━━━━━━━━━━━━━━━━━━━━\u001b[0m \u001b[32m80.3/80.3 kB\u001b[0m \u001b[31m3.5 MB/s\u001b[0m eta \u001b[36m0:00:00\u001b[0m\n",
            "\u001b[?25hDownloading idna-3.7-py3-none-any.whl (66 kB)\n",
            "\u001b[2K   \u001b[90m━━━━━━━━━━━━━━━━━━━━━━━━━━━━━━━━━━━━━━━━\u001b[0m \u001b[32m66.8/66.8 kB\u001b[0m \u001b[31m4.3 MB/s\u001b[0m eta \u001b[36m0:00:00\u001b[0m\n",
            "\u001b[?25hDownloading filetype-1.2.0-py2.py3-none-any.whl (19 kB)\n",
            "Downloading python_dotenv-1.0.1-py3-none-any.whl (19 kB)\n",
            "Downloading requests_toolbelt-1.0.0-py2.py3-none-any.whl (54 kB)\n",
            "\u001b[2K   \u001b[90m━━━━━━━━━━━━━━━━━━━━━━━━━━━━━━━━━━━━━━━━\u001b[0m \u001b[32m54.5/54.5 kB\u001b[0m \u001b[31m1.7 MB/s\u001b[0m eta \u001b[36m0:00:00\u001b[0m\n",
            "\u001b[?25hInstalling collected packages: filetype, python-dotenv, idna, requests-toolbelt, roboflow\n",
            "  Attempting uninstall: idna\n",
            "    Found existing installation: idna 3.10\n",
            "    Uninstalling idna-3.10:\n",
            "      Successfully uninstalled idna-3.10\n",
            "Successfully installed filetype-1.2.0 idna-3.7 python-dotenv-1.0.1 requests-toolbelt-1.0.0 roboflow-1.1.45\n",
            "\u001b[2K   \u001b[90m━━━━━━━━━━━━━━━━━━━━━━━━━━━━━━━━━━━━━━━━\u001b[0m \u001b[32m881.3/881.3 kB\u001b[0m \u001b[31m12.9 MB/s\u001b[0m eta \u001b[36m0:00:00\u001b[0m\n",
            "\u001b[?25hCreating new Ultralytics Settings v0.0.6 file ✅ \n",
            "View Ultralytics Settings with 'yolo settings' or at '/root/.config/Ultralytics/settings.json'\n",
            "Update Settings with 'yolo settings key=value', i.e. 'yolo settings runs_dir=path/to/dir'. For help see https://docs.ultralytics.com/quickstart/#ultralytics-settings.\n"
          ]
        }
      ]
    },
    {
      "cell_type": "code",
      "source": [
        "shutil.rmtree('sample_data', ignore_errors=True)"
      ],
      "metadata": {
        "id": "xWqt7fzTwUMd"
      },
      "execution_count": 4,
      "outputs": []
    },
    {
      "cell_type": "code",
      "source": [
        "%cd /content\n",
        "rf = Roboflow(api_key=\"KRgH3Ot0uRDKLN7SDRqL\")\n",
        "project = rf.workspace(\"kfupm-7hvnm\").project(\"lung-tumor-2xcgn\")\n",
        "version = project.version(3)"
      ],
      "metadata": {
        "colab": {
          "base_uri": "https://localhost:8080/"
        },
        "collapsed": true,
        "id": "t8UhFerIv_da",
        "outputId": "26d069bb-ef66-4653-fec4-2fa916f56b1f"
      },
      "execution_count": 2,
      "outputs": [
        {
          "output_type": "stream",
          "name": "stdout",
          "text": [
            "/content\n",
            "loading Roboflow workspace...\n",
            "loading Roboflow project...\n"
          ]
        }
      ]
    },
    {
      "cell_type": "code",
      "source": [
        "%cd /content\n",
        "current_folder_name = 'Lung-Tumor-3'\n",
        "new_folder_name = ['lung-tumor-seg', 'lung-tumor-obb']\n",
        "\n",
        "dataset_seg = version.download(\"yolov8\")\n",
        "os.rename(current_folder_name, new_folder_name[0])\n",
        "print(f\"\\nFolder renamed from {current_folder_name} to {new_folder_name[0]}\")\n",
        "\n",
        "dataset_obb = version.download(\"yolov8-obb\")\n",
        "os.rename(current_folder_name, new_folder_name[1])\n",
        "print(f\"\\nFolder renamed from {current_folder_name} to {new_folder_name[1]}\")\n",
        "\n",
        "seg_data_path = os.path.join('/content/lung-tumor-seg', 'data.yaml')\n",
        "obb_data_path = os.path.join('/content/lung-tumor-obb', 'data.yaml')\n",
        "\n",
        "import yaml\n",
        "\n",
        "with open(seg_data_path, 'r') as file:\n",
        "    content = file.read()\n",
        "content = content.replace(current_folder_name + '/', '')\n",
        "with open(seg_data_path, 'w') as file:\n",
        "    file.write(content)\n",
        "with open(obb_data_path, 'r') as file:\n",
        "    content = file.read()\n",
        "content = content.replace('path: ../datasets/roboflow', '')\n",
        "with open(obb_data_path, 'w') as file:\n",
        "    file.write(content)\n"
      ],
      "metadata": {
        "colab": {
          "base_uri": "https://localhost:8080/"
        },
        "id": "qE-_rSZv1k8t",
        "outputId": "6634fec0-139d-445d-bee2-981cc569a251"
      },
      "execution_count": 4,
      "outputs": [
        {
          "output_type": "stream",
          "name": "stdout",
          "text": [
            "/content\n",
            "Dependency ultralytics==8.0.196 is required but found version=8.2.103, to fix: `pip install ultralytics==8.0.196`\n"
          ]
        },
        {
          "output_type": "stream",
          "name": "stderr",
          "text": [
            "Downloading Dataset Version Zip in Lung-Tumor-3 to yolov8:: 100%|██████████| 15183/15183 [00:02<00:00, 6722.13it/s] "
          ]
        },
        {
          "output_type": "stream",
          "name": "stdout",
          "text": [
            "\n"
          ]
        },
        {
          "output_type": "stream",
          "name": "stderr",
          "text": [
            "\n",
            "Extracting Dataset Version Zip to Lung-Tumor-3 in yolov8:: 100%|██████████| 698/698 [00:00<00:00, 2353.09it/s]\n"
          ]
        },
        {
          "output_type": "stream",
          "name": "stdout",
          "text": [
            "\n",
            "Folder renamed from Lung-Tumor-3 to lung-tumor-seg\n"
          ]
        },
        {
          "output_type": "stream",
          "name": "stderr",
          "text": [
            "Downloading Dataset Version Zip in Lung-Tumor-3 to yolov8-obb:: 100%|██████████| 15184/15184 [00:02<00:00, 6572.22it/s] "
          ]
        },
        {
          "output_type": "stream",
          "name": "stdout",
          "text": [
            "\n"
          ]
        },
        {
          "output_type": "stream",
          "name": "stderr",
          "text": [
            "\n",
            "Extracting Dataset Version Zip to Lung-Tumor-3 in yolov8-obb:: 100%|██████████| 698/698 [00:00<00:00, 3959.74it/s]\n"
          ]
        },
        {
          "output_type": "stream",
          "name": "stdout",
          "text": [
            "\n",
            "Folder renamed from Lung-Tumor-3 to lung-tumor-obb\n"
          ]
        }
      ]
    },
    {
      "cell_type": "code",
      "source": [
        "# reset\n",
        "shutil.rmtree(new_folder_name[0])\n",
        "shutil.rmtree(new_folder_name[1])"
      ],
      "metadata": {
        "id": "X-mq4Z1c1SgX"
      },
      "execution_count": 19,
      "outputs": []
    },
    {
      "cell_type": "code",
      "source": [
        "!pip install torch torchvision torchaudio -f https://download.pytorch.org/whl/cu113/torch_stable.html"
      ],
      "metadata": {
        "colab": {
          "base_uri": "https://localhost:8080/"
        },
        "collapsed": true,
        "id": "VtjfEotX9Kpz",
        "outputId": "d786f645-d727-452c-beec-1b99c4e8777d"
      },
      "execution_count": 8,
      "outputs": [
        {
          "output_type": "stream",
          "name": "stdout",
          "text": [
            "Looking in links: https://download.pytorch.org/whl/cu113/torch_stable.html\n",
            "Requirement already satisfied: torch in /usr/local/lib/python3.10/dist-packages (2.4.1+cu121)\n",
            "Requirement already satisfied: torchvision in /usr/local/lib/python3.10/dist-packages (0.19.1+cu121)\n",
            "Requirement already satisfied: torchaudio in /usr/local/lib/python3.10/dist-packages (2.4.1+cu121)\n",
            "Requirement already satisfied: filelock in /usr/local/lib/python3.10/dist-packages (from torch) (3.16.1)\n",
            "Requirement already satisfied: typing-extensions>=4.8.0 in /usr/local/lib/python3.10/dist-packages (from torch) (4.12.2)\n",
            "Requirement already satisfied: sympy in /usr/local/lib/python3.10/dist-packages (from torch) (1.13.3)\n",
            "Requirement already satisfied: networkx in /usr/local/lib/python3.10/dist-packages (from torch) (3.3)\n",
            "Requirement already satisfied: jinja2 in /usr/local/lib/python3.10/dist-packages (from torch) (3.1.4)\n",
            "Requirement already satisfied: fsspec in /usr/local/lib/python3.10/dist-packages (from torch) (2024.6.1)\n",
            "Requirement already satisfied: numpy in /usr/local/lib/python3.10/dist-packages (from torchvision) (1.26.4)\n",
            "Requirement already satisfied: pillow!=8.3.*,>=5.3.0 in /usr/local/lib/python3.10/dist-packages (from torchvision) (10.4.0)\n",
            "Requirement already satisfied: MarkupSafe>=2.0 in /usr/local/lib/python3.10/dist-packages (from jinja2->torch) (2.1.5)\n",
            "Requirement already satisfied: mpmath<1.4,>=1.1.0 in /usr/local/lib/python3.10/dist-packages (from sympy->torch) (1.3.0)\n"
          ]
        }
      ]
    },
    {
      "cell_type": "code",
      "source": [
        "%cd /content\n",
        "!git clone https://github.com/hukaixuan19970627/yolov5_obb.git\n",
        "%cd yolov5_obb\n",
        "!pip install -r requirements.txt\n",
        "%cd utils/nms_rotated\n",
        "!python setup.py develop  #or \"pip install -v -e .\""
      ],
      "metadata": {
        "colab": {
          "base_uri": "https://localhost:8080/"
        },
        "collapsed": true,
        "id": "IhPvIo1L-OBs",
        "outputId": "ee66535b-e968-47e4-9ec3-640210b84d20"
      },
      "execution_count": 18,
      "outputs": [
        {
          "output_type": "stream",
          "name": "stdout",
          "text": [
            "/content\n",
            "fatal: destination path 'yolov5_obb' already exists and is not an empty directory.\n",
            "/content/yolov5_obb\n",
            "Requirement already satisfied: matplotlib>=3.2.2 in /usr/local/lib/python3.10/dist-packages (from -r requirements.txt (line 4)) (3.7.1)\n",
            "Requirement already satisfied: numpy>=1.18.5 in /usr/local/lib/python3.10/dist-packages (from -r requirements.txt (line 5)) (1.26.4)\n",
            "Requirement already satisfied: opencv-python>=4.5.4 in /usr/local/lib/python3.10/dist-packages (from -r requirements.txt (line 6)) (4.10.0.84)\n",
            "Requirement already satisfied: Pillow>=7.1.2 in /usr/local/lib/python3.10/dist-packages (from -r requirements.txt (line 7)) (10.4.0)\n",
            "Requirement already satisfied: PyYAML>=5.3.1 in /usr/local/lib/python3.10/dist-packages (from -r requirements.txt (line 8)) (6.0.2)\n",
            "Requirement already satisfied: requests>=2.23.0 in /usr/local/lib/python3.10/dist-packages (from -r requirements.txt (line 9)) (2.32.3)\n",
            "Requirement already satisfied: scipy>=1.4.1 in /usr/local/lib/python3.10/dist-packages (from -r requirements.txt (line 10)) (1.13.1)\n",
            "Requirement already satisfied: torch>=1.7.0 in /usr/local/lib/python3.10/dist-packages (from -r requirements.txt (line 11)) (2.4.1+cu121)\n",
            "Requirement already satisfied: torchvision>=0.8.1 in /usr/local/lib/python3.10/dist-packages (from -r requirements.txt (line 12)) (0.19.1+cu121)\n",
            "Requirement already satisfied: tqdm>=4.41.0 in /usr/local/lib/python3.10/dist-packages (from -r requirements.txt (line 13)) (4.66.5)\n",
            "Requirement already satisfied: tensorboard>=2.4.1 in /usr/local/lib/python3.10/dist-packages (from -r requirements.txt (line 16)) (2.17.0)\n",
            "Requirement already satisfied: pandas>=1.1.4 in /usr/local/lib/python3.10/dist-packages (from -r requirements.txt (line 20)) (2.1.4)\n",
            "Requirement already satisfied: seaborn>=0.11.0 in /usr/local/lib/python3.10/dist-packages (from -r requirements.txt (line 21)) (0.13.1)\n",
            "Requirement already satisfied: thop in /usr/local/lib/python3.10/dist-packages (from -r requirements.txt (line 37)) (0.1.1.post2209072238)\n",
            "Requirement already satisfied: contourpy>=1.0.1 in /usr/local/lib/python3.10/dist-packages (from matplotlib>=3.2.2->-r requirements.txt (line 4)) (1.3.0)\n",
            "Requirement already satisfied: cycler>=0.10 in /usr/local/lib/python3.10/dist-packages (from matplotlib>=3.2.2->-r requirements.txt (line 4)) (0.12.1)\n",
            "Requirement already satisfied: fonttools>=4.22.0 in /usr/local/lib/python3.10/dist-packages (from matplotlib>=3.2.2->-r requirements.txt (line 4)) (4.53.1)\n",
            "Requirement already satisfied: kiwisolver>=1.0.1 in /usr/local/lib/python3.10/dist-packages (from matplotlib>=3.2.2->-r requirements.txt (line 4)) (1.4.7)\n",
            "Requirement already satisfied: packaging>=20.0 in /usr/local/lib/python3.10/dist-packages (from matplotlib>=3.2.2->-r requirements.txt (line 4)) (24.1)\n",
            "Requirement already satisfied: pyparsing>=2.3.1 in /usr/local/lib/python3.10/dist-packages (from matplotlib>=3.2.2->-r requirements.txt (line 4)) (3.1.4)\n",
            "Requirement already satisfied: python-dateutil>=2.7 in /usr/local/lib/python3.10/dist-packages (from matplotlib>=3.2.2->-r requirements.txt (line 4)) (2.8.2)\n",
            "Requirement already satisfied: charset-normalizer<4,>=2 in /usr/local/lib/python3.10/dist-packages (from requests>=2.23.0->-r requirements.txt (line 9)) (3.3.2)\n",
            "Requirement already satisfied: idna<4,>=2.5 in /usr/local/lib/python3.10/dist-packages (from requests>=2.23.0->-r requirements.txt (line 9)) (3.7)\n",
            "Requirement already satisfied: urllib3<3,>=1.21.1 in /usr/local/lib/python3.10/dist-packages (from requests>=2.23.0->-r requirements.txt (line 9)) (2.2.3)\n",
            "Requirement already satisfied: certifi>=2017.4.17 in /usr/local/lib/python3.10/dist-packages (from requests>=2.23.0->-r requirements.txt (line 9)) (2024.8.30)\n",
            "Requirement already satisfied: filelock in /usr/local/lib/python3.10/dist-packages (from torch>=1.7.0->-r requirements.txt (line 11)) (3.16.1)\n",
            "Requirement already satisfied: typing-extensions>=4.8.0 in /usr/local/lib/python3.10/dist-packages (from torch>=1.7.0->-r requirements.txt (line 11)) (4.12.2)\n",
            "Requirement already satisfied: sympy in /usr/local/lib/python3.10/dist-packages (from torch>=1.7.0->-r requirements.txt (line 11)) (1.13.3)\n",
            "Requirement already satisfied: networkx in /usr/local/lib/python3.10/dist-packages (from torch>=1.7.0->-r requirements.txt (line 11)) (3.3)\n",
            "Requirement already satisfied: jinja2 in /usr/local/lib/python3.10/dist-packages (from torch>=1.7.0->-r requirements.txt (line 11)) (3.1.4)\n",
            "Requirement already satisfied: fsspec in /usr/local/lib/python3.10/dist-packages (from torch>=1.7.0->-r requirements.txt (line 11)) (2024.6.1)\n",
            "Requirement already satisfied: absl-py>=0.4 in /usr/local/lib/python3.10/dist-packages (from tensorboard>=2.4.1->-r requirements.txt (line 16)) (1.4.0)\n",
            "Requirement already satisfied: grpcio>=1.48.2 in /usr/local/lib/python3.10/dist-packages (from tensorboard>=2.4.1->-r requirements.txt (line 16)) (1.64.1)\n",
            "Requirement already satisfied: markdown>=2.6.8 in /usr/local/lib/python3.10/dist-packages (from tensorboard>=2.4.1->-r requirements.txt (line 16)) (3.7)\n",
            "Requirement already satisfied: protobuf!=4.24.0,<5.0.0,>=3.19.6 in /usr/local/lib/python3.10/dist-packages (from tensorboard>=2.4.1->-r requirements.txt (line 16)) (3.20.3)\n",
            "Requirement already satisfied: setuptools>=41.0.0 in /usr/local/lib/python3.10/dist-packages (from tensorboard>=2.4.1->-r requirements.txt (line 16)) (71.0.4)\n",
            "Requirement already satisfied: six>1.9 in /usr/local/lib/python3.10/dist-packages (from tensorboard>=2.4.1->-r requirements.txt (line 16)) (1.16.0)\n",
            "Requirement already satisfied: tensorboard-data-server<0.8.0,>=0.7.0 in /usr/local/lib/python3.10/dist-packages (from tensorboard>=2.4.1->-r requirements.txt (line 16)) (0.7.2)\n",
            "Requirement already satisfied: werkzeug>=1.0.1 in /usr/local/lib/python3.10/dist-packages (from tensorboard>=2.4.1->-r requirements.txt (line 16)) (3.0.4)\n",
            "Requirement already satisfied: pytz>=2020.1 in /usr/local/lib/python3.10/dist-packages (from pandas>=1.1.4->-r requirements.txt (line 20)) (2024.2)\n",
            "Requirement already satisfied: tzdata>=2022.1 in /usr/local/lib/python3.10/dist-packages (from pandas>=1.1.4->-r requirements.txt (line 20)) (2024.1)\n",
            "Requirement already satisfied: MarkupSafe>=2.1.1 in /usr/local/lib/python3.10/dist-packages (from werkzeug>=1.0.1->tensorboard>=2.4.1->-r requirements.txt (line 16)) (2.1.5)\n",
            "Requirement already satisfied: mpmath<1.4,>=1.1.0 in /usr/local/lib/python3.10/dist-packages (from sympy->torch>=1.7.0->-r requirements.txt (line 11)) (1.3.0)\n",
            "/content/yolov5_obb/utils/nms_rotated\n",
            "No CUDA runtime is found, using CUDA_HOME='/usr/local/cuda'\n",
            "Compiling nms_rotated_ext without CUDA\n",
            "running develop\n",
            "/usr/local/lib/python3.10/dist-packages/setuptools/command/develop.py:42: EasyInstallDeprecationWarning: easy_install command is deprecated.\n",
            "!!\n",
            "\n",
            "        ********************************************************************************\n",
            "        Please avoid running ``setup.py`` and ``easy_install``.\n",
            "        Instead, use pypa/build, pypa/installer or other\n",
            "        standards-based tools.\n",
            "\n",
            "        See https://github.com/pypa/setuptools/issues/917 for details.\n",
            "        ********************************************************************************\n",
            "\n",
            "!!\n",
            "  easy_install.initialize_options(self)\n",
            "/usr/local/lib/python3.10/dist-packages/setuptools/_distutils/cmd.py:66: SetuptoolsDeprecationWarning: setup.py install is deprecated.\n",
            "!!\n",
            "\n",
            "        ********************************************************************************\n",
            "        Please avoid running ``setup.py`` directly.\n",
            "        Instead, use pypa/build, pypa/installer or other\n",
            "        standards-based tools.\n",
            "\n",
            "        See https://blog.ganssle.io/articles/2021/10/setup-py-deprecated.html for details.\n",
            "        ********************************************************************************\n",
            "\n",
            "!!\n",
            "  self.initialize_options()\n",
            "running egg_info\n",
            "writing nms_rotated.egg-info/PKG-INFO\n",
            "writing dependency_links to nms_rotated.egg-info/dependency_links.txt\n",
            "writing top-level names to nms_rotated.egg-info/top_level.txt\n",
            "/usr/local/lib/python3.10/dist-packages/torch/utils/cpp_extension.py:495: UserWarning: Attempted to use ninja as the BuildExtension backend but we could not find ninja.. Falling back to using the slow distutils backend.\n",
            "  warnings.warn(msg.format('we could not find ninja.'))\n",
            "reading manifest file 'nms_rotated.egg-info/SOURCES.txt'\n",
            "writing manifest file 'nms_rotated.egg-info/SOURCES.txt'\n",
            "running build_ext\n",
            "copying build/lib.linux-x86_64-cpython-310/nms_rotated_ext.cpython-310-x86_64-linux-gnu.so -> \n",
            "Creating /usr/local/lib/python3.10/dist-packages/nms-rotated.egg-link (link to .)\n",
            "nms-rotated 0.0.0 is already the active version in easy-install.pth\n",
            "\n",
            "Installed /content/yolov5_obb/utils/nms_rotated\n",
            "Processing dependencies for nms-rotated==0.0.0\n",
            "Finished processing dependencies for nms-rotated==0.0.0\n"
          ]
        }
      ]
    },
    {
      "cell_type": "code",
      "source": [
        "%cd /content/yolov5_obb/\n",
        "!python train.py --img 640 --batch 16 --epochs 100 --data ../lung-tumor-obb/data.yaml --weights yolov5x.pt\n"
      ],
      "metadata": {
        "colab": {
          "base_uri": "https://localhost:8080/"
        },
        "collapsed": true,
        "id": "2E3U2USW-fHj",
        "outputId": "5dff6ad6-f465-4f0c-9f0d-3b4b66296f59"
      },
      "execution_count": 19,
      "outputs": [
        {
          "output_type": "stream",
          "name": "stdout",
          "text": [
            "/content/yolov5_obb\n",
            "2024-09-29 23:05:24.646231: E external/local_xla/xla/stream_executor/cuda/cuda_fft.cc:485] Unable to register cuFFT factory: Attempting to register factory for plugin cuFFT when one has already been registered\n",
            "2024-09-29 23:05:24.888571: E external/local_xla/xla/stream_executor/cuda/cuda_dnn.cc:8454] Unable to register cuDNN factory: Attempting to register factory for plugin cuDNN when one has already been registered\n",
            "2024-09-29 23:05:24.960984: E external/local_xla/xla/stream_executor/cuda/cuda_blas.cc:1452] Unable to register cuBLAS factory: Attempting to register factory for plugin cuBLAS when one has already been registered\n",
            "2024-09-29 23:05:25.122357: I tensorflow/core/platform/cpu_feature_guard.cc:210] This TensorFlow binary is optimized to use available CPU instructions in performance-critical operations.\n",
            "To enable the following instructions: AVX2 FMA, in other operations, rebuild TensorFlow with the appropriate compiler flags.\n",
            "2024-09-29 23:05:26.815519: W tensorflow/compiler/tf2tensorrt/utils/py_utils.cc:38] TF-TRT Warning: Could not find TensorRT\n",
            "\u001b[34m\u001b[1mtrain: \u001b[0mweights=yolov5x.pt, cfg=, data=../lung-tumor-obb/data.yaml, hyp=data/hyps/obb/hyp.finetune_dota.yaml, epochs=100, batch_size=16, imgsz=640, rect=False, resume=False, nosave=False, noval=False, noautoanchor=False, evolve=None, bucket=, cache=None, image_weights=False, device=1, multi_scale=False, single_cls=False, adam=False, sync_bn=False, workers=8, project=runs/train, name=exp, exist_ok=False, quad=False, linear_lr=False, label_smoothing=0.0, patience=100, freeze=[0], save_period=-1, local_rank=-1, entity=None, upload_dataset=False, bbox_interval=-1, artifact_alias=latest\n",
            "\u001b[34m\u001b[1mgithub: \u001b[0mup to date with https://github.com/hukaixuan19970627/yolov5_obb ✅\n",
            "Traceback (most recent call last):\n",
            "  File \"/content/yolov5_obb/train.py\", line 633, in <module>\n",
            "    main(opt)\n",
            "  File \"/content/yolov5_obb/train.py\", line 518, in main\n",
            "    device = select_device(opt.device, batch_size=opt.batch_size)\n",
            "  File \"/content/yolov5_obb/utils/torch_utils.py\", line 65, in select_device\n",
            "    assert torch.cuda.is_available(), f'CUDA unavailable, invalid device {device} requested'  # check availability\n",
            "AssertionError: CUDA unavailable, invalid device 1 requested\n"
          ]
        }
      ]
    },
    {
      "cell_type": "code",
      "source": [
        "model_seg = YOLO(\"yolov8x-seg.pt\")\n",
        "model_obb = YOLO(\"yolov8x-obb.pt\")"
      ],
      "metadata": {
        "colab": {
          "base_uri": "https://localhost:8080/"
        },
        "id": "3-RJ2g-BCqMF",
        "outputId": "d1c11c17-749a-4450-d565-3e57c82fb8a1"
      },
      "execution_count": 5,
      "outputs": [
        {
          "output_type": "stream",
          "name": "stdout",
          "text": [
            "Downloading https://github.com/ultralytics/assets/releases/download/v8.2.0/yolov8x-seg.pt to 'yolov8x-seg.pt'...\n"
          ]
        },
        {
          "output_type": "stream",
          "name": "stderr",
          "text": [
            "100%|██████████| 137M/137M [00:03<00:00, 39.1MB/s]\n"
          ]
        },
        {
          "output_type": "stream",
          "name": "stdout",
          "text": [
            "Downloading https://github.com/ultralytics/assets/releases/download/v8.2.0/yolov8x-obb.pt to 'yolov8x-obb.pt'...\n"
          ]
        },
        {
          "output_type": "stream",
          "name": "stderr",
          "text": [
            "100%|██████████| 133M/133M [00:03<00:00, 41.0MB/s]\n"
          ]
        }
      ]
    },
    {
      "cell_type": "code",
      "source": [
        "%cd /content\n",
        "seg_project = 'seg_project'\n",
        "seg_name = '100_epochs'\n",
        "seg_results = model_seg.train(\n",
        "    data = seg_data_path,\n",
        "    project = seg_project,\n",
        "    name = seg_name,\n",
        "    epochs = 100,\n",
        "    patience = 10,\n",
        "    batch = 4,\n",
        "    imgsz = 640,\n",
        "    workers = 8\n",
        ")"
      ],
      "metadata": {
        "colab": {
          "base_uri": "https://localhost:8080/"
        },
        "id": "UKsiFalVDnuP",
        "outputId": "1291acf4-dfad-461a-ff4a-e4193d5927f6"
      },
      "execution_count": 6,
      "outputs": [
        {
          "output_type": "stream",
          "name": "stdout",
          "text": [
            "/content\n",
            "Ultralytics YOLOv8.2.103 🚀 Python-3.10.12 torch-2.4.1+cu121 CUDA:0 (Tesla T4, 15102MiB)\n",
            "\u001b[34m\u001b[1mengine/trainer: \u001b[0mtask=segment, mode=train, model=yolov8x-seg.pt, data=/content/lung-tumor-seg/data.yaml, epochs=100, time=None, patience=10, batch=4, imgsz=640, save=True, save_period=-1, cache=False, device=None, workers=8, project=seg_project, name=100_epochs, exist_ok=False, pretrained=True, optimizer=auto, verbose=True, seed=0, deterministic=True, single_cls=False, rect=False, cos_lr=False, close_mosaic=10, resume=False, amp=True, fraction=1.0, profile=False, freeze=None, multi_scale=False, overlap_mask=True, mask_ratio=4, dropout=0.0, val=True, split=val, save_json=False, save_hybrid=False, conf=None, iou=0.7, max_det=300, half=False, dnn=False, plots=True, source=None, vid_stride=1, stream_buffer=False, visualize=False, augment=False, agnostic_nms=False, classes=None, retina_masks=False, embed=None, show=False, save_frames=False, save_txt=False, save_conf=False, save_crop=False, show_labels=True, show_conf=True, show_boxes=True, line_width=None, format=torchscript, keras=False, optimize=False, int8=False, dynamic=False, simplify=True, opset=None, workspace=4, nms=False, lr0=0.01, lrf=0.01, momentum=0.937, weight_decay=0.0005, warmup_epochs=3.0, warmup_momentum=0.8, warmup_bias_lr=0.1, box=7.5, cls=0.5, dfl=1.5, pose=12.0, kobj=1.0, label_smoothing=0.0, nbs=64, hsv_h=0.015, hsv_s=0.7, hsv_v=0.4, degrees=0.0, translate=0.1, scale=0.5, shear=0.0, perspective=0.0, flipud=0.0, fliplr=0.5, bgr=0.0, mosaic=1.0, mixup=0.0, copy_paste=0.0, auto_augment=randaugment, erasing=0.4, crop_fraction=1.0, cfg=None, tracker=botsort.yaml, save_dir=seg_project/100_epochs\n",
            "Downloading https://ultralytics.com/assets/Arial.ttf to '/root/.config/Ultralytics/Arial.ttf'...\n"
          ]
        },
        {
          "output_type": "stream",
          "name": "stderr",
          "text": [
            "100%|██████████| 755k/755k [00:00<00:00, 67.6MB/s]\n"
          ]
        },
        {
          "output_type": "stream",
          "name": "stdout",
          "text": [
            "Overriding model.yaml nc=80 with nc=1\n",
            "\n",
            "                   from  n    params  module                                       arguments                     \n",
            "  0                  -1  1      2320  ultralytics.nn.modules.conv.Conv             [3, 80, 3, 2]                 \n",
            "  1                  -1  1    115520  ultralytics.nn.modules.conv.Conv             [80, 160, 3, 2]               \n",
            "  2                  -1  3    436800  ultralytics.nn.modules.block.C2f             [160, 160, 3, True]           \n",
            "  3                  -1  1    461440  ultralytics.nn.modules.conv.Conv             [160, 320, 3, 2]              \n",
            "  4                  -1  6   3281920  ultralytics.nn.modules.block.C2f             [320, 320, 6, True]           \n",
            "  5                  -1  1   1844480  ultralytics.nn.modules.conv.Conv             [320, 640, 3, 2]              \n",
            "  6                  -1  6  13117440  ultralytics.nn.modules.block.C2f             [640, 640, 6, True]           \n",
            "  7                  -1  1   3687680  ultralytics.nn.modules.conv.Conv             [640, 640, 3, 2]              \n",
            "  8                  -1  3   6969600  ultralytics.nn.modules.block.C2f             [640, 640, 3, True]           \n",
            "  9                  -1  1   1025920  ultralytics.nn.modules.block.SPPF            [640, 640, 5]                 \n",
            " 10                  -1  1         0  torch.nn.modules.upsampling.Upsample         [None, 2, 'nearest']          \n",
            " 11             [-1, 6]  1         0  ultralytics.nn.modules.conv.Concat           [1]                           \n",
            " 12                  -1  3   7379200  ultralytics.nn.modules.block.C2f             [1280, 640, 3]                \n",
            " 13                  -1  1         0  torch.nn.modules.upsampling.Upsample         [None, 2, 'nearest']          \n",
            " 14             [-1, 4]  1         0  ultralytics.nn.modules.conv.Concat           [1]                           \n",
            " 15                  -1  3   1948800  ultralytics.nn.modules.block.C2f             [960, 320, 3]                 \n",
            " 16                  -1  1    922240  ultralytics.nn.modules.conv.Conv             [320, 320, 3, 2]              \n",
            " 17            [-1, 12]  1         0  ultralytics.nn.modules.conv.Concat           [1]                           \n",
            " 18                  -1  3   7174400  ultralytics.nn.modules.block.C2f             [960, 640, 3]                 \n",
            " 19                  -1  1   3687680  ultralytics.nn.modules.conv.Conv             [640, 640, 3, 2]              \n",
            " 20             [-1, 9]  1         0  ultralytics.nn.modules.conv.Concat           [1]                           \n",
            " 21                  -1  3   7379200  ultralytics.nn.modules.block.C2f             [1280, 640, 3]                \n",
            " 22        [15, 18, 21]  1  12317171  ultralytics.nn.modules.head.Segment          [1, 32, 320, [320, 640, 640]] \n",
            "YOLOv8x-seg summary: 401 layers, 71,751,811 parameters, 71,751,795 gradients, 344.5 GFLOPs\n",
            "\n",
            "Transferred 651/657 items from pretrained weights\n",
            "\u001b[34m\u001b[1mTensorBoard: \u001b[0mStart with 'tensorboard --logdir seg_project/100_epochs', view at http://localhost:6006/\n",
            "Freezing layer 'model.22.dfl.conv.weight'\n",
            "\u001b[34m\u001b[1mAMP: \u001b[0mrunning Automatic Mixed Precision (AMP) checks with YOLOv8n...\n",
            "Downloading https://github.com/ultralytics/assets/releases/download/v8.2.0/yolov8n.pt to 'yolov8n.pt'...\n"
          ]
        },
        {
          "output_type": "stream",
          "name": "stderr",
          "text": [
            "100%|██████████| 6.25M/6.25M [00:00<00:00, 392MB/s]\n"
          ]
        },
        {
          "output_type": "stream",
          "name": "stdout",
          "text": [
            "\u001b[34m\u001b[1mAMP: \u001b[0mchecks passed ✅\n"
          ]
        },
        {
          "output_type": "stream",
          "name": "stderr",
          "text": [
            "\u001b[34m\u001b[1mtrain: \u001b[0mScanning /content/lung-tumor-seg/train/labels... 240 images, 0 backgrounds, 0 corrupt: 100%|██████████| 240/240 [00:00<00:00, 1773.78it/s]"
          ]
        },
        {
          "output_type": "stream",
          "name": "stdout",
          "text": [
            "\u001b[34m\u001b[1mtrain: \u001b[0mNew cache created: /content/lung-tumor-seg/train/labels.cache\n"
          ]
        },
        {
          "output_type": "stream",
          "name": "stderr",
          "text": [
            "\n"
          ]
        },
        {
          "output_type": "stream",
          "name": "stdout",
          "text": [
            "\u001b[34m\u001b[1malbumentations: \u001b[0mBlur(p=0.01, blur_limit=(3, 7)), MedianBlur(p=0.01, blur_limit=(3, 7)), ToGray(p=0.01, num_output_channels=3, method='weighted_average'), CLAHE(p=0.01, clip_limit=(1, 4.0), tile_grid_size=(8, 8))\n"
          ]
        },
        {
          "output_type": "stream",
          "name": "stderr",
          "text": [
            "A new version of Albumentations is available: 1.4.16 (you have 1.4.15). Upgrade using: pip install -U albumentations. To disable automatic update checks, set the environment variable NO_ALBUMENTATIONS_UPDATE to 1.\n",
            "\u001b[34m\u001b[1mval: \u001b[0mScanning /content/lung-tumor-seg/valid/labels... 69 images, 0 backgrounds, 0 corrupt: 100%|██████████| 69/69 [00:00<00:00, 1243.56it/s]"
          ]
        },
        {
          "output_type": "stream",
          "name": "stdout",
          "text": [
            "\u001b[34m\u001b[1mval: \u001b[0mNew cache created: /content/lung-tumor-seg/valid/labels.cache\n"
          ]
        },
        {
          "output_type": "stream",
          "name": "stderr",
          "text": [
            "\n"
          ]
        },
        {
          "output_type": "stream",
          "name": "stdout",
          "text": [
            "Plotting labels to seg_project/100_epochs/labels.jpg... \n",
            "\u001b[34m\u001b[1moptimizer:\u001b[0m 'optimizer=auto' found, ignoring 'lr0=0.01' and 'momentum=0.937' and determining best 'optimizer', 'lr0' and 'momentum' automatically... \n",
            "\u001b[34m\u001b[1moptimizer:\u001b[0m AdamW(lr=0.002, momentum=0.9) with parameter groups 106 weight(decay=0.0), 117 weight(decay=0.0005), 116 bias(decay=0.0)\n",
            "\u001b[34m\u001b[1mTensorBoard: \u001b[0mmodel graph visualization added ✅\n",
            "Image sizes 640 train, 640 val\n",
            "Using 2 dataloader workers\n",
            "Logging results to \u001b[1mseg_project/100_epochs\u001b[0m\n",
            "Starting training for 100 epochs...\n",
            "\n",
            "      Epoch    GPU_mem   box_loss   seg_loss   cls_loss   dfl_loss  Instances       Size\n"
          ]
        },
        {
          "output_type": "stream",
          "name": "stderr",
          "text": [
            "      1/100      5.77G      1.906      2.707       7.93      1.301          3        640: 100%|██████████| 60/60 [00:27<00:00,  2.18it/s]\n",
            "                 Class     Images  Instances      Box(P          R      mAP50  mAP50-95)     Mask(P          R      mAP50  mAP50-95): 100%|██████████| 9/9 [00:02<00:00,  3.33it/s]"
          ]
        },
        {
          "output_type": "stream",
          "name": "stdout",
          "text": [
            "                   all         69         70          0          0          0          0          0          0          0          0\n"
          ]
        },
        {
          "output_type": "stream",
          "name": "stderr",
          "text": [
            "\n"
          ]
        },
        {
          "output_type": "stream",
          "name": "stdout",
          "text": [
            "\n",
            "      Epoch    GPU_mem   box_loss   seg_loss   cls_loss   dfl_loss  Instances       Size\n"
          ]
        },
        {
          "output_type": "stream",
          "name": "stderr",
          "text": [
            "      2/100      5.09G      2.042      2.169      2.735      1.368          5        640: 100%|██████████| 60/60 [00:26<00:00,  2.30it/s]\n",
            "                 Class     Images  Instances      Box(P          R      mAP50  mAP50-95)     Mask(P          R      mAP50  mAP50-95): 100%|██████████| 9/9 [00:02<00:00,  3.67it/s]\n"
          ]
        },
        {
          "output_type": "stream",
          "name": "stdout",
          "text": [
            "                   all         69         70          0          0          0          0          0          0          0          0\n",
            "\n",
            "      Epoch    GPU_mem   box_loss   seg_loss   cls_loss   dfl_loss  Instances       Size\n"
          ]
        },
        {
          "output_type": "stream",
          "name": "stderr",
          "text": [
            "      3/100      5.06G      1.989      1.586      2.209      1.381          2        640: 100%|██████████| 60/60 [00:24<00:00,  2.47it/s]\n",
            "                 Class     Images  Instances      Box(P          R      mAP50  mAP50-95)     Mask(P          R      mAP50  mAP50-95): 100%|██████████| 9/9 [00:03<00:00,  2.98it/s]"
          ]
        },
        {
          "output_type": "stream",
          "name": "stdout",
          "text": [
            "                   all         69         70          0          0          0          0          0          0          0          0\n"
          ]
        },
        {
          "output_type": "stream",
          "name": "stderr",
          "text": [
            "\n"
          ]
        },
        {
          "output_type": "stream",
          "name": "stdout",
          "text": [
            "\n",
            "      Epoch    GPU_mem   box_loss   seg_loss   cls_loss   dfl_loss  Instances       Size\n"
          ]
        },
        {
          "output_type": "stream",
          "name": "stderr",
          "text": [
            "      4/100      5.08G      2.087      1.775      1.822      1.422          4        640: 100%|██████████| 60/60 [00:24<00:00,  2.44it/s]\n",
            "                 Class     Images  Instances      Box(P          R      mAP50  mAP50-95)     Mask(P          R      mAP50  mAP50-95): 100%|██████████| 9/9 [00:02<00:00,  3.41it/s]"
          ]
        },
        {
          "output_type": "stream",
          "name": "stdout",
          "text": [
            "                   all         69         70          0          0          0          0          0          0          0          0\n"
          ]
        },
        {
          "output_type": "stream",
          "name": "stderr",
          "text": [
            "\n"
          ]
        },
        {
          "output_type": "stream",
          "name": "stdout",
          "text": [
            "\n",
            "      Epoch    GPU_mem   box_loss   seg_loss   cls_loss   dfl_loss  Instances       Size\n"
          ]
        },
        {
          "output_type": "stream",
          "name": "stderr",
          "text": [
            "      5/100      5.09G      2.061      1.511      2.045      1.388          5        640: 100%|██████████| 60/60 [00:24<00:00,  2.42it/s]\n",
            "                 Class     Images  Instances      Box(P          R      mAP50  mAP50-95)     Mask(P          R      mAP50  mAP50-95): 100%|██████████| 9/9 [00:02<00:00,  3.05it/s]"
          ]
        },
        {
          "output_type": "stream",
          "name": "stdout",
          "text": [
            "                   all         69         70          0          0          0          0          0          0          0          0\n"
          ]
        },
        {
          "output_type": "stream",
          "name": "stderr",
          "text": [
            "\n"
          ]
        },
        {
          "output_type": "stream",
          "name": "stdout",
          "text": [
            "\n",
            "      Epoch    GPU_mem   box_loss   seg_loss   cls_loss   dfl_loss  Instances       Size\n"
          ]
        },
        {
          "output_type": "stream",
          "name": "stderr",
          "text": [
            "      6/100      5.07G      2.078      1.772      1.574      1.378          5        640: 100%|██████████| 60/60 [00:26<00:00,  2.29it/s]\n",
            "                 Class     Images  Instances      Box(P          R      mAP50  mAP50-95)     Mask(P          R      mAP50  mAP50-95): 100%|██████████| 9/9 [00:02<00:00,  3.36it/s]"
          ]
        },
        {
          "output_type": "stream",
          "name": "stdout",
          "text": [
            "                   all         69         70      0.844      0.129      0.124     0.0497       0.75      0.114      0.112     0.0337\n"
          ]
        },
        {
          "output_type": "stream",
          "name": "stderr",
          "text": [
            "\n"
          ]
        },
        {
          "output_type": "stream",
          "name": "stdout",
          "text": [
            "\n",
            "      Epoch    GPU_mem   box_loss   seg_loss   cls_loss   dfl_loss  Instances       Size\n"
          ]
        },
        {
          "output_type": "stream",
          "name": "stderr",
          "text": [
            "      7/100      5.05G      2.048      1.558      1.456      1.412          3        640: 100%|██████████| 60/60 [00:26<00:00,  2.27it/s]\n",
            "                 Class     Images  Instances      Box(P          R      mAP50  mAP50-95)     Mask(P          R      mAP50  mAP50-95): 100%|██████████| 9/9 [00:02<00:00,  3.48it/s]"
          ]
        },
        {
          "output_type": "stream",
          "name": "stdout",
          "text": [
            "                   all         69         70      0.582        0.2      0.175     0.0832      0.606      0.171      0.157     0.0732\n"
          ]
        },
        {
          "output_type": "stream",
          "name": "stderr",
          "text": [
            "\n"
          ]
        },
        {
          "output_type": "stream",
          "name": "stdout",
          "text": [
            "\n",
            "      Epoch    GPU_mem   box_loss   seg_loss   cls_loss   dfl_loss  Instances       Size\n"
          ]
        },
        {
          "output_type": "stream",
          "name": "stderr",
          "text": [
            "      8/100      5.07G      1.892      1.591      1.329      1.325          5        640: 100%|██████████| 60/60 [00:27<00:00,  2.22it/s]\n",
            "                 Class     Images  Instances      Box(P          R      mAP50  mAP50-95)     Mask(P          R      mAP50  mAP50-95): 100%|██████████| 9/9 [00:02<00:00,  3.21it/s]"
          ]
        },
        {
          "output_type": "stream",
          "name": "stdout",
          "text": [
            "                   all         69         70      0.883      0.871      0.906      0.326      0.823      0.798      0.798       0.26\n"
          ]
        },
        {
          "output_type": "stream",
          "name": "stderr",
          "text": [
            "\n"
          ]
        },
        {
          "output_type": "stream",
          "name": "stdout",
          "text": [
            "\n",
            "      Epoch    GPU_mem   box_loss   seg_loss   cls_loss   dfl_loss  Instances       Size\n"
          ]
        },
        {
          "output_type": "stream",
          "name": "stderr",
          "text": [
            "      9/100      5.04G      1.944      1.568      1.279      1.331          6        640: 100%|██████████| 60/60 [00:26<00:00,  2.24it/s]\n",
            "                 Class     Images  Instances      Box(P          R      mAP50  mAP50-95)     Mask(P          R      mAP50  mAP50-95): 100%|██████████| 9/9 [00:02<00:00,  3.34it/s]"
          ]
        },
        {
          "output_type": "stream",
          "name": "stdout",
          "text": [
            "                   all         69         70      0.867      0.743      0.763      0.314      0.748      0.643       0.66      0.226\n"
          ]
        },
        {
          "output_type": "stream",
          "name": "stderr",
          "text": [
            "\n"
          ]
        },
        {
          "output_type": "stream",
          "name": "stdout",
          "text": [
            "\n",
            "      Epoch    GPU_mem   box_loss   seg_loss   cls_loss   dfl_loss  Instances       Size\n"
          ]
        },
        {
          "output_type": "stream",
          "name": "stderr",
          "text": [
            "     10/100      5.05G       1.87      1.476      1.187      1.325          5        640: 100%|██████████| 60/60 [00:25<00:00,  2.35it/s]\n",
            "                 Class     Images  Instances      Box(P          R      mAP50  mAP50-95)     Mask(P          R      mAP50  mAP50-95): 100%|██████████| 9/9 [00:02<00:00,  3.22it/s]"
          ]
        },
        {
          "output_type": "stream",
          "name": "stdout",
          "text": [
            "                   all         69         70      0.939      0.885      0.919      0.346      0.788      0.742       0.76       0.24\n"
          ]
        },
        {
          "output_type": "stream",
          "name": "stderr",
          "text": [
            "\n"
          ]
        },
        {
          "output_type": "stream",
          "name": "stdout",
          "text": [
            "\n",
            "      Epoch    GPU_mem   box_loss   seg_loss   cls_loss   dfl_loss  Instances       Size\n"
          ]
        },
        {
          "output_type": "stream",
          "name": "stderr",
          "text": [
            "     11/100      5.09G      1.999      1.498      1.143      1.349         10        640: 100%|██████████| 60/60 [00:26<00:00,  2.30it/s]\n",
            "                 Class     Images  Instances      Box(P          R      mAP50  mAP50-95)     Mask(P          R      mAP50  mAP50-95): 100%|██████████| 9/9 [00:02<00:00,  3.04it/s]"
          ]
        },
        {
          "output_type": "stream",
          "name": "stdout",
          "text": [
            "                   all         69         70      0.919      0.714      0.721      0.288      0.769        0.6      0.557      0.169\n"
          ]
        },
        {
          "output_type": "stream",
          "name": "stderr",
          "text": [
            "\n"
          ]
        },
        {
          "output_type": "stream",
          "name": "stdout",
          "text": [
            "\n",
            "      Epoch    GPU_mem   box_loss   seg_loss   cls_loss   dfl_loss  Instances       Size\n"
          ]
        },
        {
          "output_type": "stream",
          "name": "stderr",
          "text": [
            "     12/100      5.09G      1.858      1.668      1.107      1.246          7        640: 100%|██████████| 60/60 [00:25<00:00,  2.34it/s]\n",
            "                 Class     Images  Instances      Box(P          R      mAP50  mAP50-95)     Mask(P          R      mAP50  mAP50-95): 100%|██████████| 9/9 [00:02<00:00,  3.22it/s]"
          ]
        },
        {
          "output_type": "stream",
          "name": "stdout",
          "text": [
            "                   all         69         70      0.909      0.929      0.939       0.43      0.817      0.829      0.847       0.34\n"
          ]
        },
        {
          "output_type": "stream",
          "name": "stderr",
          "text": [
            "\n"
          ]
        },
        {
          "output_type": "stream",
          "name": "stdout",
          "text": [
            "\n",
            "      Epoch    GPU_mem   box_loss   seg_loss   cls_loss   dfl_loss  Instances       Size\n"
          ]
        },
        {
          "output_type": "stream",
          "name": "stderr",
          "text": [
            "     13/100      5.06G       1.83      1.404      1.051      1.287          7        640: 100%|██████████| 60/60 [00:26<00:00,  2.22it/s]\n",
            "                 Class     Images  Instances      Box(P          R      mAP50  mAP50-95)     Mask(P          R      mAP50  mAP50-95): 100%|██████████| 9/9 [00:02<00:00,  3.24it/s]"
          ]
        },
        {
          "output_type": "stream",
          "name": "stdout",
          "text": [
            "                   all         69         70      0.902      0.871      0.915      0.369      0.893      0.786      0.854      0.332\n"
          ]
        },
        {
          "output_type": "stream",
          "name": "stderr",
          "text": [
            "\n"
          ]
        },
        {
          "output_type": "stream",
          "name": "stdout",
          "text": [
            "\n",
            "      Epoch    GPU_mem   box_loss   seg_loss   cls_loss   dfl_loss  Instances       Size\n"
          ]
        },
        {
          "output_type": "stream",
          "name": "stderr",
          "text": [
            "     14/100      5.05G      1.894      1.647      1.056      1.329          4        640: 100%|██████████| 60/60 [00:25<00:00,  2.35it/s]\n",
            "                 Class     Images  Instances      Box(P          R      mAP50  mAP50-95)     Mask(P          R      mAP50  mAP50-95): 100%|██████████| 9/9 [00:02<00:00,  3.22it/s]"
          ]
        },
        {
          "output_type": "stream",
          "name": "stdout",
          "text": [
            "                   all         69         70      0.737      0.814      0.798      0.335      0.668        0.7      0.684      0.209\n"
          ]
        },
        {
          "output_type": "stream",
          "name": "stderr",
          "text": [
            "\n"
          ]
        },
        {
          "output_type": "stream",
          "name": "stdout",
          "text": [
            "\n",
            "      Epoch    GPU_mem   box_loss   seg_loss   cls_loss   dfl_loss  Instances       Size\n"
          ]
        },
        {
          "output_type": "stream",
          "name": "stderr",
          "text": [
            "     15/100      5.08G      1.837      1.614      1.074       1.24          9        640: 100%|██████████| 60/60 [00:25<00:00,  2.34it/s]\n",
            "                 Class     Images  Instances      Box(P          R      mAP50  mAP50-95)     Mask(P          R      mAP50  mAP50-95): 100%|██████████| 9/9 [00:02<00:00,  3.28it/s]"
          ]
        },
        {
          "output_type": "stream",
          "name": "stdout",
          "text": [
            "                   all         69         70      0.956      0.914      0.942      0.418      0.814      0.771      0.788      0.293\n"
          ]
        },
        {
          "output_type": "stream",
          "name": "stderr",
          "text": [
            "\n"
          ]
        },
        {
          "output_type": "stream",
          "name": "stdout",
          "text": [
            "\n",
            "      Epoch    GPU_mem   box_loss   seg_loss   cls_loss   dfl_loss  Instances       Size\n"
          ]
        },
        {
          "output_type": "stream",
          "name": "stderr",
          "text": [
            "     16/100      5.05G      1.946      1.298      1.134      1.331          2        640: 100%|██████████| 60/60 [00:26<00:00,  2.27it/s]\n",
            "                 Class     Images  Instances      Box(P          R      mAP50  mAP50-95)     Mask(P          R      mAP50  mAP50-95): 100%|██████████| 9/9 [00:03<00:00,  2.77it/s]"
          ]
        },
        {
          "output_type": "stream",
          "name": "stdout",
          "text": [
            "                   all         69         70       0.91      0.929      0.958      0.378      0.794      0.814      0.777      0.226\n"
          ]
        },
        {
          "output_type": "stream",
          "name": "stderr",
          "text": [
            "\n"
          ]
        },
        {
          "output_type": "stream",
          "name": "stdout",
          "text": [
            "\n",
            "      Epoch    GPU_mem   box_loss   seg_loss   cls_loss   dfl_loss  Instances       Size\n"
          ]
        },
        {
          "output_type": "stream",
          "name": "stderr",
          "text": [
            "     17/100      5.05G      1.874      1.605      1.091      1.228          5        640: 100%|██████████| 60/60 [00:26<00:00,  2.27it/s]\n",
            "                 Class     Images  Instances      Box(P          R      mAP50  mAP50-95)     Mask(P          R      mAP50  mAP50-95): 100%|██████████| 9/9 [00:03<00:00,  2.99it/s]"
          ]
        },
        {
          "output_type": "stream",
          "name": "stdout",
          "text": [
            "                   all         69         70      0.925        0.9      0.937      0.426       0.94      0.914      0.951      0.394\n"
          ]
        },
        {
          "output_type": "stream",
          "name": "stderr",
          "text": [
            "\n"
          ]
        },
        {
          "output_type": "stream",
          "name": "stdout",
          "text": [
            "\n",
            "      Epoch    GPU_mem   box_loss   seg_loss   cls_loss   dfl_loss  Instances       Size\n"
          ]
        },
        {
          "output_type": "stream",
          "name": "stderr",
          "text": [
            "     18/100      5.08G      1.764      1.544      1.005      1.245          4        640: 100%|██████████| 60/60 [00:25<00:00,  2.37it/s]\n",
            "                 Class     Images  Instances      Box(P          R      mAP50  mAP50-95)     Mask(P          R      mAP50  mAP50-95): 100%|██████████| 9/9 [00:02<00:00,  3.13it/s]"
          ]
        },
        {
          "output_type": "stream",
          "name": "stdout",
          "text": [
            "                   all         69         70      0.942      0.937      0.977      0.448        0.9      0.898      0.924      0.369\n"
          ]
        },
        {
          "output_type": "stream",
          "name": "stderr",
          "text": [
            "\n"
          ]
        },
        {
          "output_type": "stream",
          "name": "stdout",
          "text": [
            "\n",
            "      Epoch    GPU_mem   box_loss   seg_loss   cls_loss   dfl_loss  Instances       Size\n"
          ]
        },
        {
          "output_type": "stream",
          "name": "stderr",
          "text": [
            "     19/100      5.07G      1.759      1.397      0.999      1.245          6        640: 100%|██████████| 60/60 [00:25<00:00,  2.40it/s]\n",
            "                 Class     Images  Instances      Box(P          R      mAP50  mAP50-95)     Mask(P          R      mAP50  mAP50-95): 100%|██████████| 9/9 [00:02<00:00,  3.26it/s]"
          ]
        },
        {
          "output_type": "stream",
          "name": "stdout",
          "text": [
            "                   all         69         70        0.9      0.871      0.894      0.412      0.915      0.886      0.926      0.335\n"
          ]
        },
        {
          "output_type": "stream",
          "name": "stderr",
          "text": [
            "\n"
          ]
        },
        {
          "output_type": "stream",
          "name": "stdout",
          "text": [
            "\n",
            "      Epoch    GPU_mem   box_loss   seg_loss   cls_loss   dfl_loss  Instances       Size\n"
          ]
        },
        {
          "output_type": "stream",
          "name": "stderr",
          "text": [
            "     20/100      5.06G      1.713      1.571      1.001      1.233          7        640: 100%|██████████| 60/60 [00:25<00:00,  2.37it/s]\n",
            "                 Class     Images  Instances      Box(P          R      mAP50  mAP50-95)     Mask(P          R      mAP50  mAP50-95): 100%|██████████| 9/9 [00:02<00:00,  3.25it/s]"
          ]
        },
        {
          "output_type": "stream",
          "name": "stdout",
          "text": [
            "                   all         69         70      0.943      0.771      0.849      0.333      0.726      0.586      0.645      0.201\n"
          ]
        },
        {
          "output_type": "stream",
          "name": "stderr",
          "text": [
            "\n"
          ]
        },
        {
          "output_type": "stream",
          "name": "stdout",
          "text": [
            "\n",
            "      Epoch    GPU_mem   box_loss   seg_loss   cls_loss   dfl_loss  Instances       Size\n"
          ]
        },
        {
          "output_type": "stream",
          "name": "stderr",
          "text": [
            "     21/100      5.06G      1.826       1.62       1.02      1.268          9        640: 100%|██████████| 60/60 [00:28<00:00,  2.14it/s]\n",
            "                 Class     Images  Instances      Box(P          R      mAP50  mAP50-95)     Mask(P          R      mAP50  mAP50-95): 100%|██████████| 9/9 [00:02<00:00,  3.08it/s]"
          ]
        },
        {
          "output_type": "stream",
          "name": "stdout",
          "text": [
            "                   all         69         70      0.915      0.921      0.934      0.433      0.872      0.878      0.885      0.379\n"
          ]
        },
        {
          "output_type": "stream",
          "name": "stderr",
          "text": [
            "\n"
          ]
        },
        {
          "output_type": "stream",
          "name": "stdout",
          "text": [
            "\n",
            "      Epoch    GPU_mem   box_loss   seg_loss   cls_loss   dfl_loss  Instances       Size\n"
          ]
        },
        {
          "output_type": "stream",
          "name": "stderr",
          "text": [
            "     22/100      5.05G      1.656      1.367     0.9013      1.177          6        640: 100%|██████████| 60/60 [00:25<00:00,  2.31it/s]\n",
            "                 Class     Images  Instances      Box(P          R      mAP50  mAP50-95)     Mask(P          R      mAP50  mAP50-95): 100%|██████████| 9/9 [00:02<00:00,  3.27it/s]"
          ]
        },
        {
          "output_type": "stream",
          "name": "stdout",
          "text": [
            "                   all         69         70      0.965        0.9      0.953       0.44      0.913      0.857      0.908      0.339\n"
          ]
        },
        {
          "output_type": "stream",
          "name": "stderr",
          "text": [
            "\n"
          ]
        },
        {
          "output_type": "stream",
          "name": "stdout",
          "text": [
            "\n",
            "      Epoch    GPU_mem   box_loss   seg_loss   cls_loss   dfl_loss  Instances       Size\n"
          ]
        },
        {
          "output_type": "stream",
          "name": "stderr",
          "text": [
            "     23/100      5.09G      1.744      1.533     0.8945      1.214          4        640: 100%|██████████| 60/60 [00:24<00:00,  2.43it/s]\n",
            "                 Class     Images  Instances      Box(P          R      mAP50  mAP50-95)     Mask(P          R      mAP50  mAP50-95): 100%|██████████| 9/9 [00:02<00:00,  3.09it/s]"
          ]
        },
        {
          "output_type": "stream",
          "name": "stdout",
          "text": [
            "                   all         69         70      0.956      0.986       0.98       0.43      0.914      0.943      0.947      0.384\n"
          ]
        },
        {
          "output_type": "stream",
          "name": "stderr",
          "text": [
            "\n"
          ]
        },
        {
          "output_type": "stream",
          "name": "stdout",
          "text": [
            "\n",
            "      Epoch    GPU_mem   box_loss   seg_loss   cls_loss   dfl_loss  Instances       Size\n"
          ]
        },
        {
          "output_type": "stream",
          "name": "stderr",
          "text": [
            "     24/100      5.09G      1.798      1.438     0.9628      1.267          8        640: 100%|██████████| 60/60 [00:24<00:00,  2.42it/s]\n",
            "                 Class     Images  Instances      Box(P          R      mAP50  mAP50-95)     Mask(P          R      mAP50  mAP50-95): 100%|██████████| 9/9 [00:03<00:00,  2.99it/s]"
          ]
        },
        {
          "output_type": "stream",
          "name": "stdout",
          "text": [
            "                   all         69         70      0.927      0.957      0.972      0.423       0.83      0.857       0.87      0.279\n"
          ]
        },
        {
          "output_type": "stream",
          "name": "stderr",
          "text": [
            "\n"
          ]
        },
        {
          "output_type": "stream",
          "name": "stdout",
          "text": [
            "\n",
            "      Epoch    GPU_mem   box_loss   seg_loss   cls_loss   dfl_loss  Instances       Size\n"
          ]
        },
        {
          "output_type": "stream",
          "name": "stderr",
          "text": [
            "     25/100      5.04G      1.681      1.321     0.8989      1.234          4        640: 100%|██████████| 60/60 [00:24<00:00,  2.42it/s]\n",
            "                 Class     Images  Instances      Box(P          R      mAP50  mAP50-95)     Mask(P          R      mAP50  mAP50-95): 100%|██████████| 9/9 [00:02<00:00,  3.00it/s]"
          ]
        },
        {
          "output_type": "stream",
          "name": "stdout",
          "text": [
            "                   all         69         70      0.943      0.943      0.957      0.438      0.899        0.9      0.913      0.354\n"
          ]
        },
        {
          "output_type": "stream",
          "name": "stderr",
          "text": [
            "\n"
          ]
        },
        {
          "output_type": "stream",
          "name": "stdout",
          "text": [
            "\n",
            "      Epoch    GPU_mem   box_loss   seg_loss   cls_loss   dfl_loss  Instances       Size\n"
          ]
        },
        {
          "output_type": "stream",
          "name": "stderr",
          "text": [
            "     26/100      5.08G      1.749      1.429     0.9462      1.215          7        640: 100%|██████████| 60/60 [00:24<00:00,  2.42it/s]\n",
            "                 Class     Images  Instances      Box(P          R      mAP50  mAP50-95)     Mask(P          R      mAP50  mAP50-95): 100%|██████████| 9/9 [00:03<00:00,  2.94it/s]"
          ]
        },
        {
          "output_type": "stream",
          "name": "stdout",
          "text": [
            "                   all         69         70      0.926      0.899      0.927      0.433      0.793      0.771      0.822      0.296\n"
          ]
        },
        {
          "output_type": "stream",
          "name": "stderr",
          "text": [
            "\n"
          ]
        },
        {
          "output_type": "stream",
          "name": "stdout",
          "text": [
            "\n",
            "      Epoch    GPU_mem   box_loss   seg_loss   cls_loss   dfl_loss  Instances       Size\n"
          ]
        },
        {
          "output_type": "stream",
          "name": "stderr",
          "text": [
            "     27/100      5.05G        1.7      1.281     0.8697      1.208          7        640: 100%|██████████| 60/60 [00:24<00:00,  2.41it/s]\n",
            "                 Class     Images  Instances      Box(P          R      mAP50  mAP50-95)     Mask(P          R      mAP50  mAP50-95): 100%|██████████| 9/9 [00:03<00:00,  2.95it/s]"
          ]
        },
        {
          "output_type": "stream",
          "name": "stdout",
          "text": [
            "                   all         69         70      0.942      0.971      0.963      0.426      0.833      0.857      0.824      0.321\n",
            "\u001b[34m\u001b[1mEarlyStopping: \u001b[0mTraining stopped early as no improvement observed in last 10 epochs. Best results observed at epoch 17, best model saved as best.pt.\n",
            "To update EarlyStopping(patience=10) pass a new patience value, i.e. `patience=300` or use `patience=0` to disable EarlyStopping.\n"
          ]
        },
        {
          "output_type": "stream",
          "name": "stderr",
          "text": [
            "\n"
          ]
        },
        {
          "output_type": "stream",
          "name": "stdout",
          "text": [
            "\n",
            "27 epochs completed in 0.264 hours.\n",
            "Optimizer stripped from seg_project/100_epochs/weights/last.pt, 143.9MB\n",
            "Optimizer stripped from seg_project/100_epochs/weights/best.pt, 143.9MB\n",
            "\n",
            "Validating seg_project/100_epochs/weights/best.pt...\n",
            "Ultralytics YOLOv8.2.103 🚀 Python-3.10.12 torch-2.4.1+cu121 CUDA:0 (Tesla T4, 15102MiB)\n",
            "YOLOv8x-seg summary (fused): 295 layers, 71,721,619 parameters, 0 gradients, 343.7 GFLOPs\n"
          ]
        },
        {
          "output_type": "stream",
          "name": "stderr",
          "text": [
            "                 Class     Images  Instances      Box(P          R      mAP50  mAP50-95)     Mask(P          R      mAP50  mAP50-95): 100%|██████████| 9/9 [00:04<00:00,  2.10it/s]\n"
          ]
        },
        {
          "output_type": "stream",
          "name": "stdout",
          "text": [
            "                   all         69         70      0.939      0.871      0.937      0.426      0.955      0.886      0.951      0.396\n",
            "Speed: 0.7ms preprocess, 34.2ms inference, 0.0ms loss, 3.6ms postprocess per image\n",
            "Results saved to \u001b[1mseg_project/100_epochs\u001b[0m\n"
          ]
        }
      ]
    },
    {
      "cell_type": "code",
      "source": [
        "%cd /content\n",
        "obb_project = 'obb_project'\n",
        "obb_name = '100_epochs'\n",
        "obb_results = model_obb.train(\n",
        "    data = obb_data_path,\n",
        "    project = obb_project,\n",
        "    name = obb_name,\n",
        "    epochs = 100,\n",
        "    patience = 10,\n",
        "    batch = 4,\n",
        "    imgsz = 640,\n",
        "    workers = 8\n",
        ")"
      ],
      "metadata": {
        "colab": {
          "base_uri": "https://localhost:8080/"
        },
        "collapsed": true,
        "id": "04nfrt9dH4Sa",
        "outputId": "305c9ddd-b0e8-4969-8b96-b471b9a10b7e"
      },
      "execution_count": 7,
      "outputs": [
        {
          "output_type": "stream",
          "name": "stdout",
          "text": [
            "/content\n",
            "Ultralytics YOLOv8.2.103 🚀 Python-3.10.12 torch-2.4.1+cu121 CUDA:0 (Tesla T4, 15102MiB)\n",
            "\u001b[34m\u001b[1mengine/trainer: \u001b[0mtask=obb, mode=train, model=yolov8x-obb.pt, data=/content/lung-tumor-obb/data.yaml, epochs=100, time=None, patience=10, batch=4, imgsz=640, save=True, save_period=-1, cache=False, device=None, workers=8, project=obb_project, name=100_epochs, exist_ok=False, pretrained=True, optimizer=auto, verbose=True, seed=0, deterministic=True, single_cls=False, rect=False, cos_lr=False, close_mosaic=10, resume=False, amp=True, fraction=1.0, profile=False, freeze=None, multi_scale=False, overlap_mask=True, mask_ratio=4, dropout=0.0, val=True, split=val, save_json=False, save_hybrid=False, conf=None, iou=0.7, max_det=300, half=False, dnn=False, plots=True, source=None, vid_stride=1, stream_buffer=False, visualize=False, augment=False, agnostic_nms=False, classes=None, retina_masks=False, embed=None, show=False, save_frames=False, save_txt=False, save_conf=False, save_crop=False, show_labels=True, show_conf=True, show_boxes=True, line_width=None, format=torchscript, keras=False, optimize=False, int8=False, dynamic=False, simplify=True, opset=None, workspace=4, nms=False, lr0=0.01, lrf=0.01, momentum=0.937, weight_decay=0.0005, warmup_epochs=3.0, warmup_momentum=0.8, warmup_bias_lr=0.1, box=7.5, cls=0.5, dfl=1.5, pose=12.0, kobj=1.0, label_smoothing=0.0, nbs=64, hsv_h=0.015, hsv_s=0.7, hsv_v=0.4, degrees=0.0, translate=0.1, scale=0.5, shear=0.0, perspective=0.0, flipud=0.0, fliplr=0.5, bgr=0.0, mosaic=1.0, mixup=0.0, copy_paste=0.0, auto_augment=randaugment, erasing=0.4, crop_fraction=1.0, cfg=None, tracker=botsort.yaml, save_dir=obb_project/100_epochs\n",
            "Overriding model.yaml nc=15 with nc=1\n",
            "\n",
            "                   from  n    params  module                                       arguments                     \n",
            "  0                  -1  1      2320  ultralytics.nn.modules.conv.Conv             [3, 80, 3, 2]                 \n",
            "  1                  -1  1    115520  ultralytics.nn.modules.conv.Conv             [80, 160, 3, 2]               \n",
            "  2                  -1  3    436800  ultralytics.nn.modules.block.C2f             [160, 160, 3, True]           \n",
            "  3                  -1  1    461440  ultralytics.nn.modules.conv.Conv             [160, 320, 3, 2]              \n",
            "  4                  -1  6   3281920  ultralytics.nn.modules.block.C2f             [320, 320, 6, True]           \n",
            "  5                  -1  1   1844480  ultralytics.nn.modules.conv.Conv             [320, 640, 3, 2]              \n",
            "  6                  -1  6  13117440  ultralytics.nn.modules.block.C2f             [640, 640, 6, True]           \n",
            "  7                  -1  1   3687680  ultralytics.nn.modules.conv.Conv             [640, 640, 3, 2]              \n",
            "  8                  -1  3   6969600  ultralytics.nn.modules.block.C2f             [640, 640, 3, True]           \n",
            "  9                  -1  1   1025920  ultralytics.nn.modules.block.SPPF            [640, 640, 5]                 \n",
            " 10                  -1  1         0  torch.nn.modules.upsampling.Upsample         [None, 2, 'nearest']          \n",
            " 11             [-1, 6]  1         0  ultralytics.nn.modules.conv.Concat           [1]                           \n",
            " 12                  -1  3   7379200  ultralytics.nn.modules.block.C2f             [1280, 640, 3]                \n",
            " 13                  -1  1         0  torch.nn.modules.upsampling.Upsample         [None, 2, 'nearest']          \n",
            " 14             [-1, 4]  1         0  ultralytics.nn.modules.conv.Concat           [1]                           \n",
            " 15                  -1  3   1948800  ultralytics.nn.modules.block.C2f             [960, 320, 3]                 \n",
            " 16                  -1  1    922240  ultralytics.nn.modules.conv.Conv             [320, 320, 3, 2]              \n",
            " 17            [-1, 12]  1         0  ultralytics.nn.modules.conv.Concat           [1]                           \n",
            " 18                  -1  3   7174400  ultralytics.nn.modules.block.C2f             [960, 640, 3]                 \n",
            " 19                  -1  1   3687680  ultralytics.nn.modules.conv.Conv             [640, 640, 3, 2]              \n",
            " 20             [-1, 9]  1         0  ultralytics.nn.modules.conv.Concat           [1]                           \n",
            " 21                  -1  3   7379200  ultralytics.nn.modules.block.C2f             [1280, 640, 3]                \n",
            " 22        [15, 18, 21]  1  10044934  ultralytics.nn.modules.head.OBB              [1, 1, [320, 640, 640]]       \n",
            "YOLOv8x-obb summary: 390 layers, 69,479,574 parameters, 69,479,558 gradients, 263.9 GFLOPs\n",
            "\n",
            "Transferred 631/637 items from pretrained weights\n",
            "\u001b[34m\u001b[1mTensorBoard: \u001b[0mStart with 'tensorboard --logdir obb_project/100_epochs', view at http://localhost:6006/\n",
            "Freezing layer 'model.22.dfl.conv.weight'\n",
            "\u001b[34m\u001b[1mAMP: \u001b[0mrunning Automatic Mixed Precision (AMP) checks with YOLOv8n...\n",
            "\u001b[34m\u001b[1mAMP: \u001b[0mchecks passed ✅\n"
          ]
        },
        {
          "output_type": "stream",
          "name": "stderr",
          "text": [
            "\u001b[34m\u001b[1mtrain: \u001b[0mScanning /content/lung-tumor-obb/train/labels... 240 images, 0 backgrounds, 0 corrupt: 100%|██████████| 240/240 [00:00<00:00, 664.35it/s]"
          ]
        },
        {
          "output_type": "stream",
          "name": "stdout",
          "text": [
            "\u001b[34m\u001b[1mtrain: \u001b[0mNew cache created: /content/lung-tumor-obb/train/labels.cache\n",
            "\u001b[34m\u001b[1malbumentations: \u001b[0mBlur(p=0.01, blur_limit=(3, 7)), MedianBlur(p=0.01, blur_limit=(3, 7)), ToGray(p=0.01, num_output_channels=3, method='weighted_average'), CLAHE(p=0.01, clip_limit=(1, 4.0), tile_grid_size=(8, 8))\n"
          ]
        },
        {
          "output_type": "stream",
          "name": "stderr",
          "text": [
            "\n",
            "\u001b[34m\u001b[1mval: \u001b[0mScanning /content/lung-tumor-obb/valid/labels... 69 images, 0 backgrounds, 0 corrupt: 100%|██████████| 69/69 [00:00<00:00, 468.19it/s]"
          ]
        },
        {
          "output_type": "stream",
          "name": "stdout",
          "text": [
            "\u001b[34m\u001b[1mval: \u001b[0mNew cache created: /content/lung-tumor-obb/valid/labels.cache\n"
          ]
        },
        {
          "output_type": "stream",
          "name": "stderr",
          "text": [
            "\n"
          ]
        },
        {
          "output_type": "stream",
          "name": "stdout",
          "text": [
            "Plotting labels to obb_project/100_epochs/labels.jpg... \n",
            "\u001b[34m\u001b[1moptimizer:\u001b[0m 'optimizer=auto' found, ignoring 'lr0=0.01' and 'momentum=0.937' and determining best 'optimizer', 'lr0' and 'momentum' automatically... \n",
            "\u001b[34m\u001b[1moptimizer:\u001b[0m AdamW(lr=0.002, momentum=0.9) with parameter groups 103 weight(decay=0.0), 113 weight(decay=0.0005), 112 bias(decay=0.0)\n",
            "\u001b[34m\u001b[1mTensorBoard: \u001b[0mmodel graph visualization added ✅\n",
            "Image sizes 640 train, 640 val\n",
            "Using 2 dataloader workers\n",
            "Logging results to \u001b[1mobb_project/100_epochs\u001b[0m\n",
            "Starting training for 100 epochs...\n",
            "\n",
            "      Epoch    GPU_mem   box_loss   cls_loss   dfl_loss  Instances       Size\n"
          ]
        },
        {
          "output_type": "stream",
          "name": "stderr",
          "text": [
            "      1/100      6.51G      1.247      3.148       1.42          3        640: 100%|██████████| 60/60 [00:22<00:00,  2.66it/s]\n",
            "                 Class     Images  Instances      Box(P          R      mAP50  mAP50-95): 100%|██████████| 18/18 [00:03<00:00,  5.85it/s]"
          ]
        },
        {
          "output_type": "stream",
          "name": "stdout",
          "text": [
            "                   all         69         70    0.00554      0.814     0.0048    0.00319\n"
          ]
        },
        {
          "output_type": "stream",
          "name": "stderr",
          "text": [
            "\n"
          ]
        },
        {
          "output_type": "stream",
          "name": "stdout",
          "text": [
            "\n",
            "      Epoch    GPU_mem   box_loss   cls_loss   dfl_loss  Instances       Size\n"
          ]
        },
        {
          "output_type": "stream",
          "name": "stderr",
          "text": [
            "      2/100      6.25G      1.073      1.268      1.368          5        640: 100%|██████████| 60/60 [00:22<00:00,  2.72it/s]\n",
            "                 Class     Images  Instances      Box(P          R      mAP50  mAP50-95): 100%|██████████| 18/18 [00:03<00:00,  5.90it/s]"
          ]
        },
        {
          "output_type": "stream",
          "name": "stdout",
          "text": [
            "                   all         69         70      0.997      0.957      0.975      0.649\n"
          ]
        },
        {
          "output_type": "stream",
          "name": "stderr",
          "text": [
            "\n"
          ]
        },
        {
          "output_type": "stream",
          "name": "stdout",
          "text": [
            "\n",
            "      Epoch    GPU_mem   box_loss   cls_loss   dfl_loss  Instances       Size\n"
          ]
        },
        {
          "output_type": "stream",
          "name": "stderr",
          "text": [
            "      3/100      6.25G      1.075      1.076       1.51          2        640: 100%|██████████| 60/60 [00:21<00:00,  2.75it/s]\n",
            "                 Class     Images  Instances      Box(P          R      mAP50  mAP50-95): 100%|██████████| 18/18 [00:02<00:00,  6.29it/s]"
          ]
        },
        {
          "output_type": "stream",
          "name": "stdout",
          "text": [
            "                   all         69         70          1      0.992      0.995      0.671\n"
          ]
        },
        {
          "output_type": "stream",
          "name": "stderr",
          "text": [
            "\n"
          ]
        },
        {
          "output_type": "stream",
          "name": "stdout",
          "text": [
            "\n",
            "      Epoch    GPU_mem   box_loss   cls_loss   dfl_loss  Instances       Size\n"
          ]
        },
        {
          "output_type": "stream",
          "name": "stderr",
          "text": [
            "      4/100      6.26G      1.182     0.9007      1.528          4        640: 100%|██████████| 60/60 [00:21<00:00,  2.80it/s]\n",
            "                 Class     Images  Instances      Box(P          R      mAP50  mAP50-95): 100%|██████████| 18/18 [00:02<00:00,  6.04it/s]"
          ]
        },
        {
          "output_type": "stream",
          "name": "stdout",
          "text": [
            "                   all         69         70      0.978      0.986      0.994      0.657\n"
          ]
        },
        {
          "output_type": "stream",
          "name": "stderr",
          "text": [
            "\n"
          ]
        },
        {
          "output_type": "stream",
          "name": "stdout",
          "text": [
            "\n",
            "      Epoch    GPU_mem   box_loss   cls_loss   dfl_loss  Instances       Size\n"
          ]
        },
        {
          "output_type": "stream",
          "name": "stderr",
          "text": [
            "      5/100      6.27G       1.17     0.9291      1.507          5        640: 100%|██████████| 60/60 [00:21<00:00,  2.85it/s]\n",
            "                 Class     Images  Instances      Box(P          R      mAP50  mAP50-95): 100%|██████████| 18/18 [00:02<00:00,  6.28it/s]"
          ]
        },
        {
          "output_type": "stream",
          "name": "stdout",
          "text": [
            "                   all         69         70      0.984      0.957      0.992      0.649\n"
          ]
        },
        {
          "output_type": "stream",
          "name": "stderr",
          "text": [
            "\n"
          ]
        },
        {
          "output_type": "stream",
          "name": "stdout",
          "text": [
            "\n",
            "      Epoch    GPU_mem   box_loss   cls_loss   dfl_loss  Instances       Size\n"
          ]
        },
        {
          "output_type": "stream",
          "name": "stderr",
          "text": [
            "      6/100      6.26G      1.124     0.8942      1.397          5        640: 100%|██████████| 60/60 [00:21<00:00,  2.79it/s]\n",
            "                 Class     Images  Instances      Box(P          R      mAP50  mAP50-95): 100%|██████████| 18/18 [00:02<00:00,  6.96it/s]"
          ]
        },
        {
          "output_type": "stream",
          "name": "stdout",
          "text": [
            "                   all         69         70      0.976      0.971      0.992      0.613\n"
          ]
        },
        {
          "output_type": "stream",
          "name": "stderr",
          "text": [
            "\n"
          ]
        },
        {
          "output_type": "stream",
          "name": "stdout",
          "text": [
            "\n",
            "      Epoch    GPU_mem   box_loss   cls_loss   dfl_loss  Instances       Size\n"
          ]
        },
        {
          "output_type": "stream",
          "name": "stderr",
          "text": [
            "      7/100      6.27G      1.129     0.7539      1.396          3        640: 100%|██████████| 60/60 [00:21<00:00,  2.78it/s]\n",
            "                 Class     Images  Instances      Box(P          R      mAP50  mAP50-95): 100%|██████████| 18/18 [00:02<00:00,  6.91it/s]"
          ]
        },
        {
          "output_type": "stream",
          "name": "stdout",
          "text": [
            "                   all         69         70       0.93      0.929      0.966       0.65\n"
          ]
        },
        {
          "output_type": "stream",
          "name": "stderr",
          "text": [
            "\n"
          ]
        },
        {
          "output_type": "stream",
          "name": "stdout",
          "text": [
            "\n",
            "      Epoch    GPU_mem   box_loss   cls_loss   dfl_loss  Instances       Size\n"
          ]
        },
        {
          "output_type": "stream",
          "name": "stderr",
          "text": [
            "      8/100      6.27G      1.102     0.7137      1.411          5        640: 100%|██████████| 60/60 [00:21<00:00,  2.74it/s]\n",
            "                 Class     Images  Instances      Box(P          R      mAP50  mAP50-95): 100%|██████████| 18/18 [00:02<00:00,  6.45it/s]"
          ]
        },
        {
          "output_type": "stream",
          "name": "stdout",
          "text": [
            "                   all         69         70          1      0.983      0.994      0.639\n"
          ]
        },
        {
          "output_type": "stream",
          "name": "stderr",
          "text": [
            "\n"
          ]
        },
        {
          "output_type": "stream",
          "name": "stdout",
          "text": [
            "\n",
            "      Epoch    GPU_mem   box_loss   cls_loss   dfl_loss  Instances       Size\n"
          ]
        },
        {
          "output_type": "stream",
          "name": "stderr",
          "text": [
            "      9/100      6.25G      1.049     0.6588      1.332          6        640: 100%|██████████| 60/60 [00:21<00:00,  2.80it/s]\n",
            "                 Class     Images  Instances      Box(P          R      mAP50  mAP50-95): 100%|██████████| 18/18 [00:02<00:00,  6.55it/s]"
          ]
        },
        {
          "output_type": "stream",
          "name": "stdout",
          "text": [
            "                   all         69         70          1      0.968      0.994      0.691\n"
          ]
        },
        {
          "output_type": "stream",
          "name": "stderr",
          "text": [
            "\n"
          ]
        },
        {
          "output_type": "stream",
          "name": "stdout",
          "text": [
            "\n",
            "      Epoch    GPU_mem   box_loss   cls_loss   dfl_loss  Instances       Size\n"
          ]
        },
        {
          "output_type": "stream",
          "name": "stderr",
          "text": [
            "     10/100      6.24G      1.031     0.6374      1.415          5        640: 100%|██████████| 60/60 [00:21<00:00,  2.79it/s]\n",
            "                 Class     Images  Instances      Box(P          R      mAP50  mAP50-95): 100%|██████████| 18/18 [00:02<00:00,  6.22it/s]"
          ]
        },
        {
          "output_type": "stream",
          "name": "stdout",
          "text": [
            "                   all         69         70      0.998      0.986      0.987      0.672\n"
          ]
        },
        {
          "output_type": "stream",
          "name": "stderr",
          "text": [
            "\n"
          ]
        },
        {
          "output_type": "stream",
          "name": "stdout",
          "text": [
            "\n",
            "      Epoch    GPU_mem   box_loss   cls_loss   dfl_loss  Instances       Size\n"
          ]
        },
        {
          "output_type": "stream",
          "name": "stderr",
          "text": [
            "     11/100      6.26G      1.092     0.6501      1.456         10        640: 100%|██████████| 60/60 [00:21<00:00,  2.79it/s]\n",
            "                 Class     Images  Instances      Box(P          R      mAP50  mAP50-95): 100%|██████████| 18/18 [00:02<00:00,  6.34it/s]"
          ]
        },
        {
          "output_type": "stream",
          "name": "stdout",
          "text": [
            "                   all         69         70       0.95          1      0.983      0.653\n"
          ]
        },
        {
          "output_type": "stream",
          "name": "stderr",
          "text": [
            "\n"
          ]
        },
        {
          "output_type": "stream",
          "name": "stdout",
          "text": [
            "\n",
            "      Epoch    GPU_mem   box_loss   cls_loss   dfl_loss  Instances       Size\n"
          ]
        },
        {
          "output_type": "stream",
          "name": "stderr",
          "text": [
            "     12/100      6.25G     0.9594     0.5579      1.287          7        640: 100%|██████████| 60/60 [00:21<00:00,  2.78it/s]\n",
            "                 Class     Images  Instances      Box(P          R      mAP50  mAP50-95): 100%|██████████| 18/18 [00:02<00:00,  6.03it/s]"
          ]
        },
        {
          "output_type": "stream",
          "name": "stdout",
          "text": [
            "                   all         69         70      0.997      0.986      0.988      0.671\n"
          ]
        },
        {
          "output_type": "stream",
          "name": "stderr",
          "text": [
            "\n"
          ]
        },
        {
          "output_type": "stream",
          "name": "stdout",
          "text": [
            "\n",
            "      Epoch    GPU_mem   box_loss   cls_loss   dfl_loss  Instances       Size\n"
          ]
        },
        {
          "output_type": "stream",
          "name": "stderr",
          "text": [
            "     13/100      6.25G      1.056     0.6063      1.408          7        640: 100%|██████████| 60/60 [00:21<00:00,  2.80it/s]\n",
            "                 Class     Images  Instances      Box(P          R      mAP50  mAP50-95): 100%|██████████| 18/18 [00:02<00:00,  6.87it/s]"
          ]
        },
        {
          "output_type": "stream",
          "name": "stdout",
          "text": [
            "                   all         69         70      0.952      0.914      0.974      0.649\n"
          ]
        },
        {
          "output_type": "stream",
          "name": "stderr",
          "text": [
            "\n"
          ]
        },
        {
          "output_type": "stream",
          "name": "stdout",
          "text": [
            "\n",
            "      Epoch    GPU_mem   box_loss   cls_loss   dfl_loss  Instances       Size\n"
          ]
        },
        {
          "output_type": "stream",
          "name": "stderr",
          "text": [
            "     14/100      6.26G      1.094     0.6075       1.45          4        640: 100%|██████████| 60/60 [00:21<00:00,  2.83it/s]\n",
            "                 Class     Images  Instances      Box(P          R      mAP50  mAP50-95): 100%|██████████| 18/18 [00:02<00:00,  6.82it/s]"
          ]
        },
        {
          "output_type": "stream",
          "name": "stdout",
          "text": [
            "                   all         69         70      0.982          1      0.995      0.654\n"
          ]
        },
        {
          "output_type": "stream",
          "name": "stderr",
          "text": [
            "\n"
          ]
        },
        {
          "output_type": "stream",
          "name": "stdout",
          "text": [
            "\n",
            "      Epoch    GPU_mem   box_loss   cls_loss   dfl_loss  Instances       Size\n"
          ]
        },
        {
          "output_type": "stream",
          "name": "stderr",
          "text": [
            "     15/100      6.25G      1.042     0.5874      1.314          9        640: 100%|██████████| 60/60 [00:21<00:00,  2.82it/s]\n",
            "                 Class     Images  Instances      Box(P          R      mAP50  mAP50-95): 100%|██████████| 18/18 [00:02<00:00,  6.46it/s]"
          ]
        },
        {
          "output_type": "stream",
          "name": "stdout",
          "text": [
            "                   all         69         70          1      0.984      0.995      0.683\n"
          ]
        },
        {
          "output_type": "stream",
          "name": "stderr",
          "text": [
            "\n"
          ]
        },
        {
          "output_type": "stream",
          "name": "stdout",
          "text": [
            "\n",
            "      Epoch    GPU_mem   box_loss   cls_loss   dfl_loss  Instances       Size\n"
          ]
        },
        {
          "output_type": "stream",
          "name": "stderr",
          "text": [
            "     16/100      6.25G       1.07     0.6349      1.375          2        640: 100%|██████████| 60/60 [00:21<00:00,  2.79it/s]\n",
            "                 Class     Images  Instances      Box(P          R      mAP50  mAP50-95): 100%|██████████| 18/18 [00:02<00:00,  6.08it/s]"
          ]
        },
        {
          "output_type": "stream",
          "name": "stdout",
          "text": [
            "                   all         69         70      0.985      0.943      0.989      0.651\n"
          ]
        },
        {
          "output_type": "stream",
          "name": "stderr",
          "text": [
            "\n"
          ]
        },
        {
          "output_type": "stream",
          "name": "stdout",
          "text": [
            "\n",
            "      Epoch    GPU_mem   box_loss   cls_loss   dfl_loss  Instances       Size\n"
          ]
        },
        {
          "output_type": "stream",
          "name": "stderr",
          "text": [
            "     17/100      6.25G       1.07     0.6079       1.37          5        640: 100%|██████████| 60/60 [00:21<00:00,  2.76it/s]\n",
            "                 Class     Images  Instances      Box(P          R      mAP50  mAP50-95): 100%|██████████| 18/18 [00:02<00:00,  6.89it/s]"
          ]
        },
        {
          "output_type": "stream",
          "name": "stdout",
          "text": [
            "                   all         69         70      0.983          1      0.994      0.683\n"
          ]
        },
        {
          "output_type": "stream",
          "name": "stderr",
          "text": [
            "\n"
          ]
        },
        {
          "output_type": "stream",
          "name": "stdout",
          "text": [
            "\n",
            "      Epoch    GPU_mem   box_loss   cls_loss   dfl_loss  Instances       Size\n"
          ]
        },
        {
          "output_type": "stream",
          "name": "stderr",
          "text": [
            "     18/100      6.25G      1.038     0.5967      1.392          4        640: 100%|██████████| 60/60 [00:21<00:00,  2.78it/s]\n",
            "                 Class     Images  Instances      Box(P          R      mAP50  mAP50-95): 100%|██████████| 18/18 [00:02<00:00,  6.08it/s]"
          ]
        },
        {
          "output_type": "stream",
          "name": "stdout",
          "text": [
            "                   all         69         70      0.997          1      0.995       0.69\n"
          ]
        },
        {
          "output_type": "stream",
          "name": "stderr",
          "text": [
            "\n"
          ]
        },
        {
          "output_type": "stream",
          "name": "stdout",
          "text": [
            "\n",
            "      Epoch    GPU_mem   box_loss   cls_loss   dfl_loss  Instances       Size\n"
          ]
        },
        {
          "output_type": "stream",
          "name": "stderr",
          "text": [
            "     19/100      6.26G      1.015     0.5903      1.433          6        640: 100%|██████████| 60/60 [00:21<00:00,  2.84it/s]\n",
            "                 Class     Images  Instances      Box(P          R      mAP50  mAP50-95): 100%|██████████| 18/18 [00:02<00:00,  6.47it/s]"
          ]
        },
        {
          "output_type": "stream",
          "name": "stdout",
          "text": [
            "                   all         69         70      0.995      0.986      0.994      0.689\n",
            "\u001b[34m\u001b[1mEarlyStopping: \u001b[0mTraining stopped early as no improvement observed in last 10 epochs. Best results observed at epoch 9, best model saved as best.pt.\n",
            "To update EarlyStopping(patience=10) pass a new patience value, i.e. `patience=300` or use `patience=0` to disable EarlyStopping.\n"
          ]
        },
        {
          "output_type": "stream",
          "name": "stderr",
          "text": [
            "\n"
          ]
        },
        {
          "output_type": "stream",
          "name": "stdout",
          "text": [
            "\n",
            "19 epochs completed in 0.241 hours.\n",
            "Optimizer stripped from obb_project/100_epochs/weights/last.pt, 139.4MB\n",
            "Optimizer stripped from obb_project/100_epochs/weights/best.pt, 139.4MB\n",
            "\n",
            "Validating obb_project/100_epochs/weights/best.pt...\n",
            "Ultralytics YOLOv8.2.103 🚀 Python-3.10.12 torch-2.4.1+cu121 CUDA:0 (Tesla T4, 15102MiB)\n",
            "YOLOv8x-obb summary (fused): 287 layers, 69,450,054 parameters, 0 gradients, 263.2 GFLOPs\n"
          ]
        },
        {
          "output_type": "stream",
          "name": "stderr",
          "text": [
            "                 Class     Images  Instances      Box(P          R      mAP50  mAP50-95): 100%|██████████| 18/18 [00:02<00:00,  6.65it/s]\n"
          ]
        },
        {
          "output_type": "stream",
          "name": "stdout",
          "text": [
            "                   all         69         70          1      0.968      0.994       0.69\n",
            "Speed: 0.6ms preprocess, 28.5ms inference, 0.0ms loss, 2.7ms postprocess per image\n",
            "Results saved to \u001b[1mobb_project/100_epochs\u001b[0m\n"
          ]
        }
      ]
    },
    {
      "cell_type": "code",
      "source": [
        "# reset\n",
        "shutil.rmtree('seg_project')"
      ],
      "metadata": {
        "id": "dg9TQS8wKCRG"
      },
      "execution_count": null,
      "outputs": []
    },
    {
      "cell_type": "code",
      "source": [
        "# reset\n",
        "shutil.rmtree('obb_project')"
      ],
      "metadata": {
        "id": "Hln12nYtKOnE"
      },
      "execution_count": null,
      "outputs": []
    },
    {
      "cell_type": "code",
      "source": [
        "from google.colab import drive\n",
        "drive.mount('/content/drive')\n",
        "\n",
        "seg_dataset_dir = '/content/lung-tumor-seg'\n",
        "obb_dataset_dir = '/content/lung-tumor-obb'\n",
        "seg_results_dir = '/content/seg_project'\n",
        "obb_results_dir = '/content/obb_project'\n",
        "\n",
        "drive_dir = \"/content/drive/MyDrive/DL\"\n",
        "\n",
        "shutil.make_archive(seg_dataset_dir, 'zip', seg_dataset_dir)\n",
        "shutil.make_archive(obb_dataset_dir, 'zip', obb_dataset_dir)\n",
        "shutil.make_archive(seg_results_dir, 'zip', seg_results_dir)\n",
        "shutil.make_archive(obb_results_dir, 'zip', obb_results_dir)\n",
        "\n",
        "shutil.move(\"/content/lung-tumor-seg.zip\", os.path.join(drive_dir, \"lung-tumor-seg.zip\"))\n",
        "shutil.move(\"/content/lung-tumor-obb.zip\", os.path.join(drive_dir, \"lung-tumor-obb.zip\"))\n",
        "shutil.move(\"/content/seg_project.zip\", os.path.join(drive_dir, \"seg_project.zip\"))\n",
        "shutil.move(\"/content/obb_project.zip\", os.path.join(drive_dir, \"obb_project.zip\"))\n",
        "\n",
        "print(\"Files moved successfully to Google Drive.\")\n"
      ],
      "metadata": {
        "colab": {
          "base_uri": "https://localhost:8080/"
        },
        "id": "vAHIaGIsKVJ2",
        "outputId": "c86631d6-bc4d-47c6-b877-9b5d073d3b37"
      },
      "execution_count": 16,
      "outputs": [
        {
          "output_type": "stream",
          "name": "stdout",
          "text": [
            "Drive already mounted at /content/drive; to attempt to forcibly remount, call drive.mount(\"/content/drive\", force_remount=True).\n",
            "Files moved successfully to Google Drive.\n"
          ]
        }
      ]
    },
    {
      "cell_type": "markdown",
      "source": [
        "ACTUAL"
      ],
      "metadata": {
        "id": "ROBMxPr9mrTM"
      }
    },
    {
      "cell_type": "code",
      "source": [
        "import cv2\n",
        "import numpy as np\n",
        "import os\n",
        "\n",
        "# Define paths\n",
        "images_folder = \"/content/lung-tumor-seg/test/images\"\n",
        "labels_folder = \"/content/lung-tumor-seg/test/labels\"  # Assuming masks are in the same folder as labels for YOLOv8\n",
        "output_folder = \"/content/lung-tumor-seg/test/actual\"\n",
        "\n",
        "# Create the output folder if it doesn't exist\n",
        "if not os.path.exists(output_folder):\n",
        "    os.makedirs(output_folder)\n",
        "\n",
        "# Iterate through all image files in the images folder\n",
        "for image_file in os.listdir(images_folder):\n",
        "    if image_file.endswith(('.jpg', '.jpeg', '.png')):  # Check for image file extensions\n",
        "        # Load the image\n",
        "        image_path = os.path.join(images_folder, image_file)\n",
        "        image = cv2.imread(image_path)\n",
        "\n",
        "        # Load the segmentation label\n",
        "        label_path = os.path.join(labels_folder, os.path.splitext(image_file)[0] + '.txt')\n",
        "        height, width, _ = image.shape\n",
        "\n",
        "        # Check if label file exists\n",
        "        if not os.path.exists(label_path):\n",
        "            print(f\"Label file {label_path} does not exist. Skipping...\")\n",
        "            continue\n",
        "\n",
        "        with open(label_path, 'r') as file:\n",
        "            labels = file.readlines()\n",
        "\n",
        "        # Iterate through each object in the label\n",
        "        for label in labels:\n",
        "            label = label.strip().split()\n",
        "            class_id = int(label[0])\n",
        "            polygon_coords = list(map(float, label[1:]))\n",
        "\n",
        "            # Reshape polygon coordinates\n",
        "            polygon = np.array(polygon_coords).reshape(-1, 2)\n",
        "            polygon[:, 0] = polygon[:, 0] * width  # Convert normalized x to pixel x\n",
        "            polygon[:, 1] = polygon[:, 1] * height # Convert normalized y to pixel y\n",
        "            polygon = polygon.astype(np.int32)\n",
        "\n",
        "            # Draw the polygon mask on the image (for visualization)\n",
        "            cv2.polylines(image, [polygon], isClosed=True, color=(0, 0, 255), thickness=2)\n",
        "            cv2.fillPoly(image, [polygon], color=(255, 0, 255))  # Draw the filled mask\n",
        "\n",
        "        # Save the modified image\n",
        "        output_image_path = os.path.join(output_folder, image_file)\n",
        "        save_success = cv2.imwrite(output_image_path, image)\n",
        "\n",
        "        if save_success:\n",
        "            print(f\"Image saved successfully at {output_image_path}\")\n",
        "        else:\n",
        "            print(f\"Failed to save the image at {output_image_path}\")\n"
      ],
      "metadata": {
        "colab": {
          "base_uri": "https://localhost:8080/"
        },
        "collapsed": true,
        "id": "V_9eON3GRElq",
        "outputId": "16846dfe-b549-495e-9e7a-3d90ea8edcce"
      },
      "execution_count": 12,
      "outputs": [
        {
          "output_type": "stream",
          "name": "stdout",
          "text": [
            "Image saved successfully at /content/lung-tumor-seg/test/actual/000021_02_01_068_png_jpg.rf.1a5ef4b2969421b2fb1e65728d0bf2b0.jpg\n",
            "Image saved successfully at /content/lung-tumor-seg/test/actual/001404_01_01_139_png_jpg.rf.286b22d8ea74a86732ab9397d3553be4.jpg\n",
            "Image saved successfully at /content/lung-tumor-seg/test/actual/001083_09_01_093_png_jpg.rf.8e1523e1e214bb04a5c296ced316db62.jpg\n",
            "Image saved successfully at /content/lung-tumor-seg/test/actual/002265_02_01_031_png_jpg.rf.cac17609de187598bd537354b0ce3e75.jpg\n",
            "Image saved successfully at /content/lung-tumor-seg/test/actual/000103_02_01_168_png_jpg.rf.76e5e9fffd849b95bf96ae1ed4b1be65.jpg\n",
            "Image saved successfully at /content/lung-tumor-seg/test/actual/003380_03_01_140_png_jpg.rf.f79c35e472e03b850cd573ff0dd8b253.jpg\n",
            "Image saved successfully at /content/lung-tumor-seg/test/actual/000230_05_01_165_png_jpg.rf.785131d9ef12d61057eadfd5e6b257ca.jpg\n",
            "Image saved successfully at /content/lung-tumor-seg/test/actual/000188_03_01_146_png_jpg.rf.0aa9c26b627618f4d2c83082b4ed4ef2.jpg\n",
            "Image saved successfully at /content/lung-tumor-seg/test/actual/000103_13_01_019_png_jpg.rf.9ab571abaf8f3b70b259dec2ba63f4f5.jpg\n",
            "Image saved successfully at /content/lung-tumor-seg/test/actual/000103_11_01_177_png_jpg.rf.81d2f65ea3a0de1b20c4e96430b15374.jpg\n",
            "Image saved successfully at /content/lung-tumor-seg/test/actual/000207_04_01_059_png_jpg.rf.80eef1da822745c5220074d7aa04de5f.jpg\n",
            "Image saved successfully at /content/lung-tumor-seg/test/actual/000238_10_02_152_png_jpg.rf.d457ea4c7fa23b0da0abc93536627fc8.jpg\n",
            "Image saved successfully at /content/lung-tumor-seg/test/actual/000103_02_01_060_png_jpg.rf.e45c32f9edd4abfe3b94915ccbb256fd.jpg\n",
            "Image saved successfully at /content/lung-tumor-seg/test/actual/000247_06_02_149_png_jpg.rf.4a87a4b933d17a7ef8f7cf8e81ec9de2.jpg\n",
            "Image saved successfully at /content/lung-tumor-seg/test/actual/002408_01_01_161_png_jpg.rf.5ab3f5970d7b18ffb4c76a1a9acbf4a9.jpg\n",
            "Image saved successfully at /content/lung-tumor-seg/test/actual/000247_06_02_201_png_jpg.rf.ef1caa3c734b81d91b329bb15e106192.jpg\n",
            "Image saved successfully at /content/lung-tumor-seg/test/actual/000143_04_02_083_png_jpg.rf.ec2e44b5bc08568e24a94ad09d4f58fd.jpg\n",
            "Image saved successfully at /content/lung-tumor-seg/test/actual/000874_03_02_219_png_jpg.rf.1447e1d2cca9a1bd99d429f6a06f4648.jpg\n",
            "Image saved successfully at /content/lung-tumor-seg/test/actual/000304_01_01_210_png_jpg.rf.5385972414977833b61eff488f5e2bd1.jpg\n",
            "Image saved successfully at /content/lung-tumor-seg/test/actual/000103_08_01_016_png_jpg.rf.6fff7bdb9e44d43c7c96680912780e93.jpg\n",
            "Image saved successfully at /content/lung-tumor-seg/test/actual/000021_03_01_017_png_jpg.rf.6ed5f9db45f94150d050893798c7ee25.jpg\n",
            "Image saved successfully at /content/lung-tumor-seg/test/actual/000238_09_03_124_png_jpg.rf.dcf39b121afb05c7fde8cfade202d2fa.jpg\n",
            "Image saved successfully at /content/lung-tumor-seg/test/actual/003038_05_01_063_png_jpg.rf.befa5a560dd5db6e6f38b4472098e310.jpg\n",
            "Image saved successfully at /content/lung-tumor-seg/test/actual/000328_08_03_180_png_jpg.rf.3f6c5db69462e24c02a18ec8589b11b3.jpg\n",
            "Image saved successfully at /content/lung-tumor-seg/test/actual/000306_06_02_126_png_jpg.rf.38ae65457b77dc15f7ed15d72984b396.jpg\n",
            "Image saved successfully at /content/lung-tumor-seg/test/actual/000247_04_01_165_png_jpg.rf.2821dca1fdaab8b22c37ecc944d7ce55.jpg\n",
            "Image saved successfully at /content/lung-tumor-seg/test/actual/000284_02_02_018_png_jpg.rf.19c0aaac855fbc821a82306c3d92f86e.jpg\n",
            "Image saved successfully at /content/lung-tumor-seg/test/actual/000103_10_01_166_png_jpg.rf.a4b7ce6d23f601c2ad41c03fa6c23f03.jpg\n",
            "Image saved successfully at /content/lung-tumor-seg/test/actual/000103_07_02_160_png_jpg.rf.d20feac44afefd7fe6931ef1456d8066.jpg\n",
            "Image saved successfully at /content/lung-tumor-seg/test/actual/000238_09_03_268_png_jpg.rf.f09aa86ad3ea702195bd5f35eddd1212.jpg\n",
            "Image saved successfully at /content/lung-tumor-seg/test/actual/000223_07_01_133_png_jpg.rf.7104f50e578370818e068a79e08104f8.jpg\n",
            "Image saved successfully at /content/lung-tumor-seg/test/actual/000020_04_01_143_png_jpg.rf.1979d244d1b2bc2c7a61d94fd98cf13e.jpg\n",
            "Image saved successfully at /content/lung-tumor-seg/test/actual/000143_04_02_126_png_jpg.rf.a0d17c3818d84c51f0d6c14517c6dc00.jpg\n",
            "Image saved successfully at /content/lung-tumor-seg/test/actual/000223_05_03_128_png_jpg.rf.65ceaaeff9d3fa775110d5ac73273ea3.jpg\n"
          ]
        }
      ]
    },
    {
      "cell_type": "code",
      "source": [
        "import cv2\n",
        "import numpy as np\n",
        "import os\n",
        "\n",
        "# Define paths\n",
        "images_folder = \"/content/lung-tumor-obb/test/images\"\n",
        "labels_folder = \"/content/lung-tumor-obb/test/labels\"  # Assuming masks are in the same folder as labels for YOLOv8\n",
        "output_folder = \"/content/lung-tumor-obb/test/actual\"\n",
        "\n",
        "# Create the output folder if it doesn't exist\n",
        "if not os.path.exists(output_folder):\n",
        "    os.makedirs(output_folder)\n",
        "\n",
        "# Iterate through all image files in the images folder\n",
        "for image_file in os.listdir(images_folder):\n",
        "    if image_file.endswith(('.jpg', '.jpeg', '.png')):  # Check for image file extensions\n",
        "        # Load the image\n",
        "        image_path = os.path.join(images_folder, image_file)\n",
        "        image = cv2.imread(image_path)\n",
        "\n",
        "        # Load the OBB label\n",
        "        label_path = os.path.join(labels_folder, os.path.splitext(image_file)[0] + '.txt')\n",
        "        height, width, _ = image.shape\n",
        "\n",
        "        # Check if label file exists\n",
        "        if not os.path.exists(label_path):\n",
        "            print(f\"Label file {label_path} does not exist. Skipping...\")\n",
        "            continue\n",
        "\n",
        "        with open(label_path, 'r') as file:\n",
        "            labels = file.readlines()\n",
        "\n",
        "        # Iterate through each object in the label\n",
        "        for label in labels:\n",
        "            label = label.strip().split()\n",
        "            class_id = int(label[0])  # Read class ID\n",
        "            polygon_coords = list(map(float, label[1:]))  # Read polygon coordinates\n",
        "\n",
        "            # Reshape polygon coordinates\n",
        "            polygon = np.array(polygon_coords).reshape(-1, 2)\n",
        "            polygon[:, 0] = polygon[:, 0] * width  # Convert normalized x to pixel x\n",
        "            polygon[:, 1] = polygon[:, 1] * height # Convert normalized y to pixel y\n",
        "            polygon = polygon.astype(np.int32)\n",
        "\n",
        "            # Draw the polygon mask on the image (for visualization)\n",
        "            cv2.polylines(image, [polygon], isClosed=True, color=(255, 0, 255), thickness=2)\n",
        "            # cv2.fillPoly(image, [polygon], color=(0, 255, 0))  # Draw the filled mask\n",
        "\n",
        "        # Save the modified image\n",
        "        output_image_path = os.path.join(output_folder, image_file)\n",
        "        save_success = cv2.imwrite(output_image_path, image)\n",
        "\n",
        "        if save_success:\n",
        "            print(f\"Image saved successfully at {output_image_path}\")\n",
        "        else:\n",
        "            print(f\"Failed to save the image at {output_image_path}\")\n"
      ],
      "metadata": {
        "colab": {
          "base_uri": "https://localhost:8080/"
        },
        "collapsed": true,
        "id": "m2TbRalsV5Z-",
        "outputId": "88029396-7df4-41f2-c874-814c6b4a7373"
      },
      "execution_count": 13,
      "outputs": [
        {
          "output_type": "stream",
          "name": "stdout",
          "text": [
            "Image saved successfully at /content/lung-tumor-obb/test/actual/000021_02_01_068_png_jpg.rf.1a5ef4b2969421b2fb1e65728d0bf2b0.jpg\n",
            "Image saved successfully at /content/lung-tumor-obb/test/actual/001404_01_01_139_png_jpg.rf.286b22d8ea74a86732ab9397d3553be4.jpg\n",
            "Image saved successfully at /content/lung-tumor-obb/test/actual/001083_09_01_093_png_jpg.rf.8e1523e1e214bb04a5c296ced316db62.jpg\n",
            "Image saved successfully at /content/lung-tumor-obb/test/actual/002265_02_01_031_png_jpg.rf.cac17609de187598bd537354b0ce3e75.jpg\n",
            "Image saved successfully at /content/lung-tumor-obb/test/actual/000103_02_01_168_png_jpg.rf.76e5e9fffd849b95bf96ae1ed4b1be65.jpg\n",
            "Image saved successfully at /content/lung-tumor-obb/test/actual/003380_03_01_140_png_jpg.rf.f79c35e472e03b850cd573ff0dd8b253.jpg\n",
            "Image saved successfully at /content/lung-tumor-obb/test/actual/000230_05_01_165_png_jpg.rf.785131d9ef12d61057eadfd5e6b257ca.jpg\n",
            "Image saved successfully at /content/lung-tumor-obb/test/actual/000188_03_01_146_png_jpg.rf.0aa9c26b627618f4d2c83082b4ed4ef2.jpg\n",
            "Image saved successfully at /content/lung-tumor-obb/test/actual/000103_13_01_019_png_jpg.rf.9ab571abaf8f3b70b259dec2ba63f4f5.jpg\n",
            "Image saved successfully at /content/lung-tumor-obb/test/actual/000103_11_01_177_png_jpg.rf.81d2f65ea3a0de1b20c4e96430b15374.jpg\n",
            "Image saved successfully at /content/lung-tumor-obb/test/actual/000207_04_01_059_png_jpg.rf.80eef1da822745c5220074d7aa04de5f.jpg\n",
            "Image saved successfully at /content/lung-tumor-obb/test/actual/000238_10_02_152_png_jpg.rf.d457ea4c7fa23b0da0abc93536627fc8.jpg\n",
            "Image saved successfully at /content/lung-tumor-obb/test/actual/000103_02_01_060_png_jpg.rf.e45c32f9edd4abfe3b94915ccbb256fd.jpg\n",
            "Image saved successfully at /content/lung-tumor-obb/test/actual/000247_06_02_149_png_jpg.rf.4a87a4b933d17a7ef8f7cf8e81ec9de2.jpg\n",
            "Image saved successfully at /content/lung-tumor-obb/test/actual/002408_01_01_161_png_jpg.rf.5ab3f5970d7b18ffb4c76a1a9acbf4a9.jpg\n",
            "Image saved successfully at /content/lung-tumor-obb/test/actual/000247_06_02_201_png_jpg.rf.ef1caa3c734b81d91b329bb15e106192.jpg\n",
            "Image saved successfully at /content/lung-tumor-obb/test/actual/000143_04_02_083_png_jpg.rf.ec2e44b5bc08568e24a94ad09d4f58fd.jpg\n",
            "Image saved successfully at /content/lung-tumor-obb/test/actual/000874_03_02_219_png_jpg.rf.1447e1d2cca9a1bd99d429f6a06f4648.jpg\n",
            "Image saved successfully at /content/lung-tumor-obb/test/actual/000304_01_01_210_png_jpg.rf.5385972414977833b61eff488f5e2bd1.jpg\n",
            "Image saved successfully at /content/lung-tumor-obb/test/actual/000103_08_01_016_png_jpg.rf.6fff7bdb9e44d43c7c96680912780e93.jpg\n",
            "Image saved successfully at /content/lung-tumor-obb/test/actual/000021_03_01_017_png_jpg.rf.6ed5f9db45f94150d050893798c7ee25.jpg\n",
            "Image saved successfully at /content/lung-tumor-obb/test/actual/000238_09_03_124_png_jpg.rf.dcf39b121afb05c7fde8cfade202d2fa.jpg\n",
            "Image saved successfully at /content/lung-tumor-obb/test/actual/003038_05_01_063_png_jpg.rf.befa5a560dd5db6e6f38b4472098e310.jpg\n",
            "Image saved successfully at /content/lung-tumor-obb/test/actual/000328_08_03_180_png_jpg.rf.3f6c5db69462e24c02a18ec8589b11b3.jpg\n",
            "Image saved successfully at /content/lung-tumor-obb/test/actual/000306_06_02_126_png_jpg.rf.38ae65457b77dc15f7ed15d72984b396.jpg\n",
            "Image saved successfully at /content/lung-tumor-obb/test/actual/000247_04_01_165_png_jpg.rf.2821dca1fdaab8b22c37ecc944d7ce55.jpg\n",
            "Image saved successfully at /content/lung-tumor-obb/test/actual/000284_02_02_018_png_jpg.rf.19c0aaac855fbc821a82306c3d92f86e.jpg\n",
            "Image saved successfully at /content/lung-tumor-obb/test/actual/000103_10_01_166_png_jpg.rf.a4b7ce6d23f601c2ad41c03fa6c23f03.jpg\n",
            "Image saved successfully at /content/lung-tumor-obb/test/actual/000103_07_02_160_png_jpg.rf.d20feac44afefd7fe6931ef1456d8066.jpg\n",
            "Image saved successfully at /content/lung-tumor-obb/test/actual/000238_09_03_268_png_jpg.rf.f09aa86ad3ea702195bd5f35eddd1212.jpg\n",
            "Image saved successfully at /content/lung-tumor-obb/test/actual/000223_07_01_133_png_jpg.rf.7104f50e578370818e068a79e08104f8.jpg\n",
            "Image saved successfully at /content/lung-tumor-obb/test/actual/000020_04_01_143_png_jpg.rf.1979d244d1b2bc2c7a61d94fd98cf13e.jpg\n",
            "Image saved successfully at /content/lung-tumor-obb/test/actual/000143_04_02_126_png_jpg.rf.a0d17c3818d84c51f0d6c14517c6dc00.jpg\n",
            "Image saved successfully at /content/lung-tumor-obb/test/actual/000223_05_03_128_png_jpg.rf.65ceaaeff9d3fa775110d5ac73273ea3.jpg\n"
          ]
        }
      ]
    },
    {
      "cell_type": "markdown",
      "source": [
        "PREDICT"
      ],
      "metadata": {
        "id": "-qMg_I3OmufK"
      }
    },
    {
      "cell_type": "code",
      "source": [
        "import cv2\n",
        "import os\n",
        "from ultralytics import YOLO\n",
        "\n",
        "# Define paths\n",
        "images_folder = \"/content/lung-tumor-seg/test/images\"\n",
        "output_folder = \"/content/lung-tumor-seg/test/predict\"\n",
        "\n",
        "# Load your trained YOLOv8 segmentation model\n",
        "model = YOLO(\"/content/seg_project/100_epochs/weights/best.pt\")\n",
        "\n",
        "# Create the output folder if it doesn't exist\n",
        "if not os.path.exists(output_folder):\n",
        "    os.makedirs(output_folder)\n",
        "\n",
        "# Iterate through all image files in the images folder\n",
        "for image_file in os.listdir(images_folder):\n",
        "    if image_file.endswith(('.jpg', '.jpeg', '.png')):  # Check for image file extensions\n",
        "        # Load the image\n",
        "        image_path = os.path.join(images_folder, image_file)\n",
        "        image = cv2.imread(image_path)\n",
        "\n",
        "        # Predict with the model\n",
        "        results = model(image_path)  # Predict on the image file\n",
        "\n",
        "        # Iterate through the results\n",
        "        for result in results:\n",
        "            masks = result.masks  # Get masks from results\n",
        "            names = model.names  # Get class names from the model\n",
        "\n",
        "            # Draw the masks on the image\n",
        "            if masks is not None and masks.data is not None:\n",
        "                for i in range(masks.data.shape[0]):  # Iterate over each mask\n",
        "                    mask_array = masks.data[i].cpu().numpy()  # Get mask data as NumPy array\n",
        "                    mask_array = (mask_array > 0).astype(np.uint8)  # Binarize the mask\n",
        "\n",
        "                    # Create a red color version of the mask\n",
        "                    colored_mask = np.zeros_like(image)  # Create an empty image with the same shape\n",
        "                    colored_mask[mask_array == 1] = [0, 255, 255]  # Set the mask region to red\n",
        "\n",
        "                    # Blend the mask with the original image\n",
        "                    alpha = 0.5  # Adjust transparency\n",
        "                    blended = cv2.addWeighted(image, 1 - alpha, colored_mask, alpha, 0)\n",
        "\n",
        "                    # Update the original image with the blended mask\n",
        "                    image = blended\n",
        "\n",
        "                    # Access confidence and class using boxes\n",
        "                    if result.boxes is not None:\n",
        "                        conf = result.boxes[i].conf.item()  # Confidence score\n",
        "                        cls = result.boxes[i].cls.item()  # Class index\n",
        "                        class_name = names[int(cls)]  # Get class name from index\n",
        "\n",
        "                        # Calculate the position to draw the text (using mask's centroid)\n",
        "                        y, x = np.where(mask_array == 1)  # Get coordinates of the mask\n",
        "                        if len(x) > 0 and len(y) > 0:  # Check if there are any coordinates\n",
        "                            text_x, text_y = int(x.mean()), int(y.mean())  # Get the centroid for text position\n",
        "                            # Draw the class name and confidence next to the mask\n",
        "                            cv2.putText(image, f'{class_name}: {conf:.2f}',\n",
        "                                        (text_x, text_y - 10), cv2.FONT_HERSHEY_SIMPLEX,\n",
        "                                        1, (255, 255, 0), 2)  # White text\n",
        "\n",
        "        # Save the modified image\n",
        "        output_image_path = os.path.join(output_folder, image_file)\n",
        "        save_success = cv2.imwrite(output_image_path, image)\n",
        "\n",
        "        if save_success:\n",
        "            print(f\"Image saved successfully at {output_image_path}\")\n",
        "        else:\n",
        "            print(f\"Failed to save the image at {output_image_path}\")\n"
      ],
      "metadata": {
        "colab": {
          "base_uri": "https://localhost:8080/"
        },
        "collapsed": true,
        "id": "nv9OLq5pXL4m",
        "outputId": "09e2c535-456d-4c37-e114-67f306a3d06c"
      },
      "execution_count": 14,
      "outputs": [
        {
          "output_type": "stream",
          "name": "stdout",
          "text": [
            "\n",
            "image 1/1 /content/lung-tumor-seg/test/images/000021_02_01_068_png_jpg.rf.1a5ef4b2969421b2fb1e65728d0bf2b0.jpg: 640x640 (no detections), 7995.8ms\n",
            "Speed: 14.8ms preprocess, 7995.8ms inference, 12.8ms postprocess per image at shape (1, 3, 640, 640)\n",
            "Image saved successfully at /content/lung-tumor-seg/test/predict/000021_02_01_068_png_jpg.rf.1a5ef4b2969421b2fb1e65728d0bf2b0.jpg\n",
            "\n",
            "image 1/1 /content/lung-tumor-seg/test/images/001404_01_01_139_png_jpg.rf.286b22d8ea74a86732ab9397d3553be4.jpg: 640x640 1 Tumor, 5801.6ms\n",
            "Speed: 2.5ms preprocess, 5801.6ms inference, 27.5ms postprocess per image at shape (1, 3, 640, 640)\n",
            "Image saved successfully at /content/lung-tumor-seg/test/predict/001404_01_01_139_png_jpg.rf.286b22d8ea74a86732ab9397d3553be4.jpg\n",
            "\n",
            "image 1/1 /content/lung-tumor-seg/test/images/001083_09_01_093_png_jpg.rf.8e1523e1e214bb04a5c296ced316db62.jpg: 640x640 1 Tumor, 6763.4ms\n",
            "Speed: 2.7ms preprocess, 6763.4ms inference, 8.9ms postprocess per image at shape (1, 3, 640, 640)\n",
            "Image saved successfully at /content/lung-tumor-seg/test/predict/001083_09_01_093_png_jpg.rf.8e1523e1e214bb04a5c296ced316db62.jpg\n",
            "\n",
            "image 1/1 /content/lung-tumor-seg/test/images/002265_02_01_031_png_jpg.rf.cac17609de187598bd537354b0ce3e75.jpg: 640x640 1 Tumor, 6303.8ms\n",
            "Speed: 3.3ms preprocess, 6303.8ms inference, 5.2ms postprocess per image at shape (1, 3, 640, 640)\n",
            "Image saved successfully at /content/lung-tumor-seg/test/predict/002265_02_01_031_png_jpg.rf.cac17609de187598bd537354b0ce3e75.jpg\n",
            "\n",
            "image 1/1 /content/lung-tumor-seg/test/images/000103_02_01_168_png_jpg.rf.76e5e9fffd849b95bf96ae1ed4b1be65.jpg: 640x640 (no detections), 5904.2ms\n",
            "Speed: 3.0ms preprocess, 5904.2ms inference, 0.6ms postprocess per image at shape (1, 3, 640, 640)\n",
            "Image saved successfully at /content/lung-tumor-seg/test/predict/000103_02_01_168_png_jpg.rf.76e5e9fffd849b95bf96ae1ed4b1be65.jpg\n",
            "\n",
            "image 1/1 /content/lung-tumor-seg/test/images/003380_03_01_140_png_jpg.rf.f79c35e472e03b850cd573ff0dd8b253.jpg: 640x640 2 Tumors, 7141.4ms\n",
            "Speed: 3.2ms preprocess, 7141.4ms inference, 9.1ms postprocess per image at shape (1, 3, 640, 640)\n",
            "Image saved successfully at /content/lung-tumor-seg/test/predict/003380_03_01_140_png_jpg.rf.f79c35e472e03b850cd573ff0dd8b253.jpg\n",
            "\n",
            "image 1/1 /content/lung-tumor-seg/test/images/000230_05_01_165_png_jpg.rf.785131d9ef12d61057eadfd5e6b257ca.jpg: 640x640 1 Tumor, 6023.5ms\n",
            "Speed: 2.5ms preprocess, 6023.5ms inference, 5.1ms postprocess per image at shape (1, 3, 640, 640)\n",
            "Image saved successfully at /content/lung-tumor-seg/test/predict/000230_05_01_165_png_jpg.rf.785131d9ef12d61057eadfd5e6b257ca.jpg\n",
            "\n",
            "image 1/1 /content/lung-tumor-seg/test/images/000188_03_01_146_png_jpg.rf.0aa9c26b627618f4d2c83082b4ed4ef2.jpg: 640x640 1 Tumor, 7530.0ms\n",
            "Speed: 2.9ms preprocess, 7530.0ms inference, 5.1ms postprocess per image at shape (1, 3, 640, 640)\n",
            "Image saved successfully at /content/lung-tumor-seg/test/predict/000188_03_01_146_png_jpg.rf.0aa9c26b627618f4d2c83082b4ed4ef2.jpg\n",
            "\n",
            "image 1/1 /content/lung-tumor-seg/test/images/000103_13_01_019_png_jpg.rf.9ab571abaf8f3b70b259dec2ba63f4f5.jpg: 640x640 1 Tumor, 5728.3ms\n",
            "Speed: 2.8ms preprocess, 5728.3ms inference, 5.2ms postprocess per image at shape (1, 3, 640, 640)\n",
            "Image saved successfully at /content/lung-tumor-seg/test/predict/000103_13_01_019_png_jpg.rf.9ab571abaf8f3b70b259dec2ba63f4f5.jpg\n",
            "\n",
            "image 1/1 /content/lung-tumor-seg/test/images/000103_11_01_177_png_jpg.rf.81d2f65ea3a0de1b20c4e96430b15374.jpg: 640x640 1 Tumor, 7500.8ms\n",
            "Speed: 2.5ms preprocess, 7500.8ms inference, 5.2ms postprocess per image at shape (1, 3, 640, 640)\n",
            "Image saved successfully at /content/lung-tumor-seg/test/predict/000103_11_01_177_png_jpg.rf.81d2f65ea3a0de1b20c4e96430b15374.jpg\n",
            "\n",
            "image 1/1 /content/lung-tumor-seg/test/images/000207_04_01_059_png_jpg.rf.80eef1da822745c5220074d7aa04de5f.jpg: 640x640 1 Tumor, 5771.1ms\n",
            "Speed: 2.7ms preprocess, 5771.1ms inference, 5.1ms postprocess per image at shape (1, 3, 640, 640)\n",
            "Image saved successfully at /content/lung-tumor-seg/test/predict/000207_04_01_059_png_jpg.rf.80eef1da822745c5220074d7aa04de5f.jpg\n",
            "\n",
            "image 1/1 /content/lung-tumor-seg/test/images/000238_10_02_152_png_jpg.rf.d457ea4c7fa23b0da0abc93536627fc8.jpg: 640x640 1 Tumor, 7165.9ms\n",
            "Speed: 2.3ms preprocess, 7165.9ms inference, 8.2ms postprocess per image at shape (1, 3, 640, 640)\n",
            "Image saved successfully at /content/lung-tumor-seg/test/predict/000238_10_02_152_png_jpg.rf.d457ea4c7fa23b0da0abc93536627fc8.jpg\n",
            "\n",
            "image 1/1 /content/lung-tumor-seg/test/images/000103_02_01_060_png_jpg.rf.e45c32f9edd4abfe3b94915ccbb256fd.jpg: 640x640 1 Tumor, 5950.3ms\n",
            "Speed: 3.8ms preprocess, 5950.3ms inference, 5.3ms postprocess per image at shape (1, 3, 640, 640)\n",
            "Image saved successfully at /content/lung-tumor-seg/test/predict/000103_02_01_060_png_jpg.rf.e45c32f9edd4abfe3b94915ccbb256fd.jpg\n",
            "\n",
            "image 1/1 /content/lung-tumor-seg/test/images/000247_06_02_149_png_jpg.rf.4a87a4b933d17a7ef8f7cf8e81ec9de2.jpg: 640x640 1 Tumor, 6377.3ms\n",
            "Speed: 2.6ms preprocess, 6377.3ms inference, 8.0ms postprocess per image at shape (1, 3, 640, 640)\n",
            "Image saved successfully at /content/lung-tumor-seg/test/predict/000247_06_02_149_png_jpg.rf.4a87a4b933d17a7ef8f7cf8e81ec9de2.jpg\n",
            "\n",
            "image 1/1 /content/lung-tumor-seg/test/images/002408_01_01_161_png_jpg.rf.5ab3f5970d7b18ffb4c76a1a9acbf4a9.jpg: 640x640 1 Tumor, 6761.1ms\n",
            "Speed: 3.1ms preprocess, 6761.1ms inference, 5.0ms postprocess per image at shape (1, 3, 640, 640)\n",
            "Image saved successfully at /content/lung-tumor-seg/test/predict/002408_01_01_161_png_jpg.rf.5ab3f5970d7b18ffb4c76a1a9acbf4a9.jpg\n",
            "\n",
            "image 1/1 /content/lung-tumor-seg/test/images/000247_06_02_201_png_jpg.rf.ef1caa3c734b81d91b329bb15e106192.jpg: 640x640 1 Tumor, 5709.9ms\n",
            "Speed: 3.0ms preprocess, 5709.9ms inference, 5.1ms postprocess per image at shape (1, 3, 640, 640)\n",
            "Image saved successfully at /content/lung-tumor-seg/test/predict/000247_06_02_201_png_jpg.rf.ef1caa3c734b81d91b329bb15e106192.jpg\n",
            "\n",
            "image 1/1 /content/lung-tumor-seg/test/images/000143_04_02_083_png_jpg.rf.ec2e44b5bc08568e24a94ad09d4f58fd.jpg: 640x640 1 Tumor, 7431.8ms\n",
            "Speed: 2.8ms preprocess, 7431.8ms inference, 5.1ms postprocess per image at shape (1, 3, 640, 640)\n",
            "Image saved successfully at /content/lung-tumor-seg/test/predict/000143_04_02_083_png_jpg.rf.ec2e44b5bc08568e24a94ad09d4f58fd.jpg\n",
            "\n",
            "image 1/1 /content/lung-tumor-seg/test/images/000874_03_02_219_png_jpg.rf.1447e1d2cca9a1bd99d429f6a06f4648.jpg: 640x640 3 Tumors, 5731.3ms\n",
            "Speed: 2.6ms preprocess, 5731.3ms inference, 17.4ms postprocess per image at shape (1, 3, 640, 640)\n",
            "Image saved successfully at /content/lung-tumor-seg/test/predict/000874_03_02_219_png_jpg.rf.1447e1d2cca9a1bd99d429f6a06f4648.jpg\n",
            "\n",
            "image 1/1 /content/lung-tumor-seg/test/images/000304_01_01_210_png_jpg.rf.5385972414977833b61eff488f5e2bd1.jpg: 640x640 1 Tumor, 7561.3ms\n",
            "Speed: 3.1ms preprocess, 7561.3ms inference, 5.1ms postprocess per image at shape (1, 3, 640, 640)\n",
            "Image saved successfully at /content/lung-tumor-seg/test/predict/000304_01_01_210_png_jpg.rf.5385972414977833b61eff488f5e2bd1.jpg\n",
            "\n",
            "image 1/1 /content/lung-tumor-seg/test/images/000103_08_01_016_png_jpg.rf.6fff7bdb9e44d43c7c96680912780e93.jpg: 640x640 1 Tumor, 6441.4ms\n",
            "Speed: 3.3ms preprocess, 6441.4ms inference, 12.5ms postprocess per image at shape (1, 3, 640, 640)\n",
            "Image saved successfully at /content/lung-tumor-seg/test/predict/000103_08_01_016_png_jpg.rf.6fff7bdb9e44d43c7c96680912780e93.jpg\n",
            "\n",
            "image 1/1 /content/lung-tumor-seg/test/images/000021_03_01_017_png_jpg.rf.6ed5f9db45f94150d050893798c7ee25.jpg: 640x640 2 Tumors, 7538.6ms\n",
            "Speed: 2.9ms preprocess, 7538.6ms inference, 9.0ms postprocess per image at shape (1, 3, 640, 640)\n",
            "Image saved successfully at /content/lung-tumor-seg/test/predict/000021_03_01_017_png_jpg.rf.6ed5f9db45f94150d050893798c7ee25.jpg\n",
            "\n",
            "image 1/1 /content/lung-tumor-seg/test/images/000238_09_03_124_png_jpg.rf.dcf39b121afb05c7fde8cfade202d2fa.jpg: 640x640 1 Tumor, 5773.2ms\n",
            "Speed: 2.7ms preprocess, 5773.2ms inference, 6.7ms postprocess per image at shape (1, 3, 640, 640)\n",
            "Image saved successfully at /content/lung-tumor-seg/test/predict/000238_09_03_124_png_jpg.rf.dcf39b121afb05c7fde8cfade202d2fa.jpg\n",
            "\n",
            "image 1/1 /content/lung-tumor-seg/test/images/003038_05_01_063_png_jpg.rf.befa5a560dd5db6e6f38b4472098e310.jpg: 640x640 1 Tumor, 7247.7ms\n",
            "Speed: 3.2ms preprocess, 7247.7ms inference, 8.2ms postprocess per image at shape (1, 3, 640, 640)\n",
            "Image saved successfully at /content/lung-tumor-seg/test/predict/003038_05_01_063_png_jpg.rf.befa5a560dd5db6e6f38b4472098e310.jpg\n",
            "\n",
            "image 1/1 /content/lung-tumor-seg/test/images/000328_08_03_180_png_jpg.rf.3f6c5db69462e24c02a18ec8589b11b3.jpg: 640x640 1 Tumor, 5869.8ms\n",
            "Speed: 3.5ms preprocess, 5869.8ms inference, 5.1ms postprocess per image at shape (1, 3, 640, 640)\n",
            "Image saved successfully at /content/lung-tumor-seg/test/predict/000328_08_03_180_png_jpg.rf.3f6c5db69462e24c02a18ec8589b11b3.jpg\n",
            "\n",
            "image 1/1 /content/lung-tumor-seg/test/images/000306_06_02_126_png_jpg.rf.38ae65457b77dc15f7ed15d72984b396.jpg: 640x640 1 Tumor, 6375.5ms\n",
            "Speed: 2.5ms preprocess, 6375.5ms inference, 8.0ms postprocess per image at shape (1, 3, 640, 640)\n",
            "Image saved successfully at /content/lung-tumor-seg/test/predict/000306_06_02_126_png_jpg.rf.38ae65457b77dc15f7ed15d72984b396.jpg\n",
            "\n",
            "image 1/1 /content/lung-tumor-seg/test/images/000247_04_01_165_png_jpg.rf.2821dca1fdaab8b22c37ecc944d7ce55.jpg: 640x640 1 Tumor, 6826.8ms\n",
            "Speed: 8.2ms preprocess, 6826.8ms inference, 5.4ms postprocess per image at shape (1, 3, 640, 640)\n",
            "Image saved successfully at /content/lung-tumor-seg/test/predict/000247_04_01_165_png_jpg.rf.2821dca1fdaab8b22c37ecc944d7ce55.jpg\n",
            "\n",
            "image 1/1 /content/lung-tumor-seg/test/images/000284_02_02_018_png_jpg.rf.19c0aaac855fbc821a82306c3d92f86e.jpg: 640x640 1 Tumor, 5729.9ms\n",
            "Speed: 2.8ms preprocess, 5729.9ms inference, 5.0ms postprocess per image at shape (1, 3, 640, 640)\n",
            "Image saved successfully at /content/lung-tumor-seg/test/predict/000284_02_02_018_png_jpg.rf.19c0aaac855fbc821a82306c3d92f86e.jpg\n",
            "\n",
            "image 1/1 /content/lung-tumor-seg/test/images/000103_10_01_166_png_jpg.rf.a4b7ce6d23f601c2ad41c03fa6c23f03.jpg: 640x640 1 Tumor, 7413.9ms\n",
            "Speed: 2.9ms preprocess, 7413.9ms inference, 5.1ms postprocess per image at shape (1, 3, 640, 640)\n",
            "Image saved successfully at /content/lung-tumor-seg/test/predict/000103_10_01_166_png_jpg.rf.a4b7ce6d23f601c2ad41c03fa6c23f03.jpg\n",
            "\n",
            "image 1/1 /content/lung-tumor-seg/test/images/000103_07_02_160_png_jpg.rf.d20feac44afefd7fe6931ef1456d8066.jpg: 640x640 1 Tumor, 5727.8ms\n",
            "Speed: 2.6ms preprocess, 5727.8ms inference, 5.9ms postprocess per image at shape (1, 3, 640, 640)\n",
            "Image saved successfully at /content/lung-tumor-seg/test/predict/000103_07_02_160_png_jpg.rf.d20feac44afefd7fe6931ef1456d8066.jpg\n",
            "\n",
            "image 1/1 /content/lung-tumor-seg/test/images/000238_09_03_268_png_jpg.rf.f09aa86ad3ea702195bd5f35eddd1212.jpg: 640x640 2 Tumors, 7632.3ms\n",
            "Speed: 2.9ms preprocess, 7632.3ms inference, 9.0ms postprocess per image at shape (1, 3, 640, 640)\n",
            "Image saved successfully at /content/lung-tumor-seg/test/predict/000238_09_03_268_png_jpg.rf.f09aa86ad3ea702195bd5f35eddd1212.jpg\n",
            "\n",
            "image 1/1 /content/lung-tumor-seg/test/images/000223_07_01_133_png_jpg.rf.7104f50e578370818e068a79e08104f8.jpg: 640x640 1 Tumor, 5700.6ms\n",
            "Speed: 2.6ms preprocess, 5700.6ms inference, 5.1ms postprocess per image at shape (1, 3, 640, 640)\n",
            "Image saved successfully at /content/lung-tumor-seg/test/predict/000223_07_01_133_png_jpg.rf.7104f50e578370818e068a79e08104f8.jpg\n",
            "\n",
            "image 1/1 /content/lung-tumor-seg/test/images/000020_04_01_143_png_jpg.rf.1979d244d1b2bc2c7a61d94fd98cf13e.jpg: 640x640 1 Tumor, 7448.7ms\n",
            "Speed: 2.9ms preprocess, 7448.7ms inference, 5.1ms postprocess per image at shape (1, 3, 640, 640)\n",
            "Image saved successfully at /content/lung-tumor-seg/test/predict/000020_04_01_143_png_jpg.rf.1979d244d1b2bc2c7a61d94fd98cf13e.jpg\n",
            "\n",
            "image 1/1 /content/lung-tumor-seg/test/images/000143_04_02_126_png_jpg.rf.a0d17c3818d84c51f0d6c14517c6dc00.jpg: 640x640 1 Tumor, 5693.7ms\n",
            "Speed: 2.4ms preprocess, 5693.7ms inference, 5.0ms postprocess per image at shape (1, 3, 640, 640)\n",
            "Image saved successfully at /content/lung-tumor-seg/test/predict/000143_04_02_126_png_jpg.rf.a0d17c3818d84c51f0d6c14517c6dc00.jpg\n",
            "\n",
            "image 1/1 /content/lung-tumor-seg/test/images/000223_05_03_128_png_jpg.rf.65ceaaeff9d3fa775110d5ac73273ea3.jpg: 640x640 1 Tumor, 6564.6ms\n",
            "Speed: 2.6ms preprocess, 6564.6ms inference, 8.2ms postprocess per image at shape (1, 3, 640, 640)\n",
            "Image saved successfully at /content/lung-tumor-seg/test/predict/000223_05_03_128_png_jpg.rf.65ceaaeff9d3fa775110d5ac73273ea3.jpg\n"
          ]
        }
      ]
    },
    {
      "cell_type": "code",
      "source": [
        "import cv2\n",
        "import os\n",
        "import numpy as np\n",
        "from ultralytics import YOLO\n",
        "\n",
        "# Define paths\n",
        "images_folder = \"/content/lung-tumor-obb/test/images\"\n",
        "output_folder = \"/content/lung-tumor-obb/test/predict\"\n",
        "\n",
        "# Load your trained YOLOv8 segmentation model\n",
        "model = YOLO(\"/content/obb_project/100_epochs/weights/best.pt\")\n",
        "\n",
        "# Create the output folder if it doesn't exist\n",
        "if not os.path.exists(output_folder):\n",
        "    os.makedirs(output_folder)\n",
        "\n",
        "# Extract the class names from the model\n",
        "names = model.names  # Get class names from the model\n",
        "\n",
        "# Iterate through all image files in the images folder\n",
        "for image_file in os.listdir(images_folder):\n",
        "    if image_file.endswith(('.jpg', '.jpeg', '.png')):  # Check for image file extensions\n",
        "        # Load the image\n",
        "        image_path = os.path.join(images_folder, image_file)\n",
        "        image = cv2.imread(image_path)\n",
        "\n",
        "        # Predict with the model\n",
        "        results = model(image_path)  # Predict on the image file\n",
        "\n",
        "        # Iterate through the results\n",
        "        for result in results:\n",
        "            # Check if the result contains OBB\n",
        "            if hasattr(result, 'obb') and result.obb is not None:\n",
        "                # Get OBB points\n",
        "                points = result.obb.xyxyxyxy.cpu().numpy()  # Retrieve OBB points (8-point format)\n",
        "                conf = result.obb.conf.cpu().numpy()  # Retrieve confidence scores\n",
        "                cls = result.obb.cls.cpu().numpy()  # Retrieve class labels\n",
        "\n",
        "                for i in range(len(points)):\n",
        "                    # Convert points to integer for drawing\n",
        "                    point_coords = points[i].reshape(4, 2).astype(np.int32)  # Reshape to get 4 points (x, y)\n",
        "\n",
        "                    # Draw OBB points as lines\n",
        "                    cv2.polylines(image, [point_coords], isClosed=True, color=(0, 255, 255), thickness=2)  # Green for OBB\n",
        "\n",
        "                    # Draw the confidence and class label\n",
        "                    cv2.putText(image, f'{names[int(cls[i])]}: {conf[i]:.2f}',\n",
        "                                (point_coords[0][0], point_coords[0][1]-10), cv2.FONT_HERSHEY_SIMPLEX,\n",
        "                                1, (255, 255, 0), 2)\n",
        "\n",
        "        # Save the modified image\n",
        "        output_image_path = os.path.join(output_folder, image_file)\n",
        "        save_success = cv2.imwrite(output_image_path, image)\n",
        "\n",
        "        if save_success:\n",
        "            print(f\"Image saved successfully at {output_image_path}\")\n",
        "        else:\n",
        "            print(f\"Failed to save the image at {output_image_path}\")\n"
      ],
      "metadata": {
        "colab": {
          "base_uri": "https://localhost:8080/"
        },
        "collapsed": true,
        "id": "T1YoNfCCZW3V",
        "outputId": "083e58e5-2d71-4a49-ba28-23674689522c"
      },
      "execution_count": 15,
      "outputs": [
        {
          "output_type": "stream",
          "name": "stdout",
          "text": [
            "\n",
            "image 1/1 /content/lung-tumor-obb/test/images/000021_02_01_068_png_jpg.rf.1a5ef4b2969421b2fb1e65728d0bf2b0.jpg: 640x640 4749.5ms\n",
            "Speed: 2.6ms preprocess, 4749.5ms inference, 7.6ms postprocess per image at shape (1, 3, 640, 640)\n",
            "Image saved successfully at /content/lung-tumor-obb/test/predict/000021_02_01_068_png_jpg.rf.1a5ef4b2969421b2fb1e65728d0bf2b0.jpg\n",
            "\n",
            "image 1/1 /content/lung-tumor-obb/test/images/001404_01_01_139_png_jpg.rf.286b22d8ea74a86732ab9397d3553be4.jpg: 640x640 4579.4ms\n",
            "Speed: 3.3ms preprocess, 4579.4ms inference, 1.7ms postprocess per image at shape (1, 3, 640, 640)\n",
            "Image saved successfully at /content/lung-tumor-obb/test/predict/001404_01_01_139_png_jpg.rf.286b22d8ea74a86732ab9397d3553be4.jpg\n",
            "\n",
            "image 1/1 /content/lung-tumor-obb/test/images/001083_09_01_093_png_jpg.rf.8e1523e1e214bb04a5c296ced316db62.jpg: 640x640 6333.9ms\n",
            "Speed: 2.4ms preprocess, 6333.9ms inference, 2.6ms postprocess per image at shape (1, 3, 640, 640)\n",
            "Image saved successfully at /content/lung-tumor-obb/test/predict/001083_09_01_093_png_jpg.rf.8e1523e1e214bb04a5c296ced316db62.jpg\n",
            "\n",
            "image 1/1 /content/lung-tumor-obb/test/images/002265_02_01_031_png_jpg.rf.cac17609de187598bd537354b0ce3e75.jpg: 640x640 4665.1ms\n",
            "Speed: 2.6ms preprocess, 4665.1ms inference, 1.8ms postprocess per image at shape (1, 3, 640, 640)\n",
            "Image saved successfully at /content/lung-tumor-obb/test/predict/002265_02_01_031_png_jpg.rf.cac17609de187598bd537354b0ce3e75.jpg\n",
            "\n",
            "image 1/1 /content/lung-tumor-obb/test/images/000103_02_01_168_png_jpg.rf.76e5e9fffd849b95bf96ae1ed4b1be65.jpg: 640x640 5157.3ms\n",
            "Speed: 2.5ms preprocess, 5157.3ms inference, 2.3ms postprocess per image at shape (1, 3, 640, 640)\n",
            "Image saved successfully at /content/lung-tumor-obb/test/predict/000103_02_01_168_png_jpg.rf.76e5e9fffd849b95bf96ae1ed4b1be65.jpg\n",
            "\n",
            "image 1/1 /content/lung-tumor-obb/test/images/003380_03_01_140_png_jpg.rf.f79c35e472e03b850cd573ff0dd8b253.jpg: 640x640 5887.1ms\n",
            "Speed: 3.2ms preprocess, 5887.1ms inference, 1.7ms postprocess per image at shape (1, 3, 640, 640)\n",
            "Image saved successfully at /content/lung-tumor-obb/test/predict/003380_03_01_140_png_jpg.rf.f79c35e472e03b850cd573ff0dd8b253.jpg\n",
            "\n",
            "image 1/1 /content/lung-tumor-obb/test/images/000230_05_01_165_png_jpg.rf.785131d9ef12d61057eadfd5e6b257ca.jpg: 640x640 4649.5ms\n",
            "Speed: 2.5ms preprocess, 4649.5ms inference, 1.7ms postprocess per image at shape (1, 3, 640, 640)\n",
            "Image saved successfully at /content/lung-tumor-obb/test/predict/000230_05_01_165_png_jpg.rf.785131d9ef12d61057eadfd5e6b257ca.jpg\n",
            "\n",
            "image 1/1 /content/lung-tumor-obb/test/images/000188_03_01_146_png_jpg.rf.0aa9c26b627618f4d2c83082b4ed4ef2.jpg: 640x640 5846.0ms\n",
            "Speed: 2.8ms preprocess, 5846.0ms inference, 2.5ms postprocess per image at shape (1, 3, 640, 640)\n",
            "Image saved successfully at /content/lung-tumor-obb/test/predict/000188_03_01_146_png_jpg.rf.0aa9c26b627618f4d2c83082b4ed4ef2.jpg\n",
            "\n",
            "image 1/1 /content/lung-tumor-obb/test/images/000103_13_01_019_png_jpg.rf.9ab571abaf8f3b70b259dec2ba63f4f5.jpg: 640x640 5155.8ms\n",
            "Speed: 3.3ms preprocess, 5155.8ms inference, 1.8ms postprocess per image at shape (1, 3, 640, 640)\n",
            "Image saved successfully at /content/lung-tumor-obb/test/predict/000103_13_01_019_png_jpg.rf.9ab571abaf8f3b70b259dec2ba63f4f5.jpg\n",
            "\n",
            "image 1/1 /content/lung-tumor-obb/test/images/000103_11_01_177_png_jpg.rf.81d2f65ea3a0de1b20c4e96430b15374.jpg: 640x640 4616.9ms\n",
            "Speed: 2.5ms preprocess, 4616.9ms inference, 1.7ms postprocess per image at shape (1, 3, 640, 640)\n",
            "Image saved successfully at /content/lung-tumor-obb/test/predict/000103_11_01_177_png_jpg.rf.81d2f65ea3a0de1b20c4e96430b15374.jpg\n",
            "\n",
            "image 1/1 /content/lung-tumor-obb/test/images/000207_04_01_059_png_jpg.rf.80eef1da822745c5220074d7aa04de5f.jpg: 640x640 6458.4ms\n",
            "Speed: 3.2ms preprocess, 6458.4ms inference, 1.8ms postprocess per image at shape (1, 3, 640, 640)\n",
            "Image saved successfully at /content/lung-tumor-obb/test/predict/000207_04_01_059_png_jpg.rf.80eef1da822745c5220074d7aa04de5f.jpg\n",
            "\n",
            "image 1/1 /content/lung-tumor-obb/test/images/000238_10_02_152_png_jpg.rf.d457ea4c7fa23b0da0abc93536627fc8.jpg: 640x640 4648.5ms\n",
            "Speed: 2.5ms preprocess, 4648.5ms inference, 2.5ms postprocess per image at shape (1, 3, 640, 640)\n",
            "Image saved successfully at /content/lung-tumor-obb/test/predict/000238_10_02_152_png_jpg.rf.d457ea4c7fa23b0da0abc93536627fc8.jpg\n",
            "\n",
            "image 1/1 /content/lung-tumor-obb/test/images/000103_02_01_060_png_jpg.rf.e45c32f9edd4abfe3b94915ccbb256fd.jpg: 640x640 4672.5ms\n",
            "Speed: 3.2ms preprocess, 4672.5ms inference, 1.6ms postprocess per image at shape (1, 3, 640, 640)\n",
            "Image saved successfully at /content/lung-tumor-obb/test/predict/000103_02_01_060_png_jpg.rf.e45c32f9edd4abfe3b94915ccbb256fd.jpg\n",
            "\n",
            "image 1/1 /content/lung-tumor-obb/test/images/000247_06_02_149_png_jpg.rf.4a87a4b933d17a7ef8f7cf8e81ec9de2.jpg: 640x640 6370.8ms\n",
            "Speed: 3.3ms preprocess, 6370.8ms inference, 3.5ms postprocess per image at shape (1, 3, 640, 640)\n",
            "Image saved successfully at /content/lung-tumor-obb/test/predict/000247_06_02_149_png_jpg.rf.4a87a4b933d17a7ef8f7cf8e81ec9de2.jpg\n",
            "\n",
            "image 1/1 /content/lung-tumor-obb/test/images/002408_01_01_161_png_jpg.rf.5ab3f5970d7b18ffb4c76a1a9acbf4a9.jpg: 640x640 4635.3ms\n",
            "Speed: 2.5ms preprocess, 4635.3ms inference, 1.7ms postprocess per image at shape (1, 3, 640, 640)\n",
            "Image saved successfully at /content/lung-tumor-obb/test/predict/002408_01_01_161_png_jpg.rf.5ab3f5970d7b18ffb4c76a1a9acbf4a9.jpg\n",
            "\n",
            "image 1/1 /content/lung-tumor-obb/test/images/000247_06_02_201_png_jpg.rf.ef1caa3c734b81d91b329bb15e106192.jpg: 640x640 5096.9ms\n",
            "Speed: 2.5ms preprocess, 5096.9ms inference, 2.4ms postprocess per image at shape (1, 3, 640, 640)\n",
            "Image saved successfully at /content/lung-tumor-obb/test/predict/000247_06_02_201_png_jpg.rf.ef1caa3c734b81d91b329bb15e106192.jpg\n",
            "\n",
            "image 1/1 /content/lung-tumor-obb/test/images/000143_04_02_083_png_jpg.rf.ec2e44b5bc08568e24a94ad09d4f58fd.jpg: 640x640 5954.0ms\n",
            "Speed: 4.3ms preprocess, 5954.0ms inference, 1.7ms postprocess per image at shape (1, 3, 640, 640)\n",
            "Image saved successfully at /content/lung-tumor-obb/test/predict/000143_04_02_083_png_jpg.rf.ec2e44b5bc08568e24a94ad09d4f58fd.jpg\n",
            "\n",
            "image 1/1 /content/lung-tumor-obb/test/images/000874_03_02_219_png_jpg.rf.1447e1d2cca9a1bd99d429f6a06f4648.jpg: 640x640 4779.4ms\n",
            "Speed: 2.6ms preprocess, 4779.4ms inference, 1.8ms postprocess per image at shape (1, 3, 640, 640)\n",
            "Image saved successfully at /content/lung-tumor-obb/test/predict/000874_03_02_219_png_jpg.rf.1447e1d2cca9a1bd99d429f6a06f4648.jpg\n",
            "\n",
            "image 1/1 /content/lung-tumor-obb/test/images/000304_01_01_210_png_jpg.rf.5385972414977833b61eff488f5e2bd1.jpg: 640x640 5950.7ms\n",
            "Speed: 3.0ms preprocess, 5950.7ms inference, 2.7ms postprocess per image at shape (1, 3, 640, 640)\n",
            "Image saved successfully at /content/lung-tumor-obb/test/predict/000304_01_01_210_png_jpg.rf.5385972414977833b61eff488f5e2bd1.jpg\n",
            "\n",
            "image 1/1 /content/lung-tumor-obb/test/images/000103_08_01_016_png_jpg.rf.6fff7bdb9e44d43c7c96680912780e93.jpg: 640x640 5105.2ms\n",
            "Speed: 5.3ms preprocess, 5105.2ms inference, 1.8ms postprocess per image at shape (1, 3, 640, 640)\n",
            "Image saved successfully at /content/lung-tumor-obb/test/predict/000103_08_01_016_png_jpg.rf.6fff7bdb9e44d43c7c96680912780e93.jpg\n",
            "\n",
            "image 1/1 /content/lung-tumor-obb/test/images/000021_03_01_017_png_jpg.rf.6ed5f9db45f94150d050893798c7ee25.jpg: 640x640 4659.3ms\n",
            "Speed: 3.6ms preprocess, 4659.3ms inference, 1.9ms postprocess per image at shape (1, 3, 640, 640)\n",
            "Image saved successfully at /content/lung-tumor-obb/test/predict/000021_03_01_017_png_jpg.rf.6ed5f9db45f94150d050893798c7ee25.jpg\n",
            "\n",
            "image 1/1 /content/lung-tumor-obb/test/images/000238_09_03_124_png_jpg.rf.dcf39b121afb05c7fde8cfade202d2fa.jpg: 640x640 6551.2ms\n",
            "Speed: 2.6ms preprocess, 6551.2ms inference, 2.0ms postprocess per image at shape (1, 3, 640, 640)\n",
            "Image saved successfully at /content/lung-tumor-obb/test/predict/000238_09_03_124_png_jpg.rf.dcf39b121afb05c7fde8cfade202d2fa.jpg\n",
            "\n",
            "image 1/1 /content/lung-tumor-obb/test/images/003038_05_01_063_png_jpg.rf.befa5a560dd5db6e6f38b4472098e310.jpg: 640x640 4655.1ms\n",
            "Speed: 3.1ms preprocess, 4655.1ms inference, 1.9ms postprocess per image at shape (1, 3, 640, 640)\n",
            "Image saved successfully at /content/lung-tumor-obb/test/predict/003038_05_01_063_png_jpg.rf.befa5a560dd5db6e6f38b4472098e310.jpg\n",
            "\n",
            "image 1/1 /content/lung-tumor-obb/test/images/000328_08_03_180_png_jpg.rf.3f6c5db69462e24c02a18ec8589b11b3.jpg: 640x640 4659.8ms\n",
            "Speed: 3.1ms preprocess, 4659.8ms inference, 1.8ms postprocess per image at shape (1, 3, 640, 640)\n",
            "Image saved successfully at /content/lung-tumor-obb/test/predict/000328_08_03_180_png_jpg.rf.3f6c5db69462e24c02a18ec8589b11b3.jpg\n",
            "\n",
            "image 1/1 /content/lung-tumor-obb/test/images/000306_06_02_126_png_jpg.rf.38ae65457b77dc15f7ed15d72984b396.jpg: 640x640 6396.0ms\n",
            "Speed: 3.2ms preprocess, 6396.0ms inference, 1.8ms postprocess per image at shape (1, 3, 640, 640)\n",
            "Image saved successfully at /content/lung-tumor-obb/test/predict/000306_06_02_126_png_jpg.rf.38ae65457b77dc15f7ed15d72984b396.jpg\n",
            "\n",
            "image 1/1 /content/lung-tumor-obb/test/images/000247_04_01_165_png_jpg.rf.2821dca1fdaab8b22c37ecc944d7ce55.jpg: 640x640 5544.2ms\n",
            "Speed: 4.5ms preprocess, 5544.2ms inference, 3.2ms postprocess per image at shape (1, 3, 640, 640)\n",
            "Image saved successfully at /content/lung-tumor-obb/test/predict/000247_04_01_165_png_jpg.rf.2821dca1fdaab8b22c37ecc944d7ce55.jpg\n",
            "\n",
            "image 1/1 /content/lung-tumor-obb/test/images/000284_02_02_018_png_jpg.rf.19c0aaac855fbc821a82306c3d92f86e.jpg: 640x640 6782.7ms\n",
            "Speed: 3.7ms preprocess, 6782.7ms inference, 3.0ms postprocess per image at shape (1, 3, 640, 640)\n",
            "Image saved successfully at /content/lung-tumor-obb/test/predict/000284_02_02_018_png_jpg.rf.19c0aaac855fbc821a82306c3d92f86e.jpg\n",
            "\n",
            "image 1/1 /content/lung-tumor-obb/test/images/000103_10_01_166_png_jpg.rf.a4b7ce6d23f601c2ad41c03fa6c23f03.jpg: 640x640 5039.6ms\n",
            "Speed: 3.6ms preprocess, 5039.6ms inference, 1.9ms postprocess per image at shape (1, 3, 640, 640)\n",
            "Image saved successfully at /content/lung-tumor-obb/test/predict/000103_10_01_166_png_jpg.rf.a4b7ce6d23f601c2ad41c03fa6c23f03.jpg\n",
            "\n",
            "image 1/1 /content/lung-tumor-obb/test/images/000103_07_02_160_png_jpg.rf.d20feac44afefd7fe6931ef1456d8066.jpg: 640x640 4672.3ms\n",
            "Speed: 3.2ms preprocess, 4672.3ms inference, 2.7ms postprocess per image at shape (1, 3, 640, 640)\n",
            "Image saved successfully at /content/lung-tumor-obb/test/predict/000103_07_02_160_png_jpg.rf.d20feac44afefd7fe6931ef1456d8066.jpg\n",
            "\n",
            "image 1/1 /content/lung-tumor-obb/test/images/000238_09_03_268_png_jpg.rf.f09aa86ad3ea702195bd5f35eddd1212.jpg: 640x640 6516.1ms\n",
            "Speed: 3.2ms preprocess, 6516.1ms inference, 1.8ms postprocess per image at shape (1, 3, 640, 640)\n",
            "Image saved successfully at /content/lung-tumor-obb/test/predict/000238_09_03_268_png_jpg.rf.f09aa86ad3ea702195bd5f35eddd1212.jpg\n",
            "\n",
            "image 1/1 /content/lung-tumor-obb/test/images/000223_07_01_133_png_jpg.rf.7104f50e578370818e068a79e08104f8.jpg: 640x640 4650.4ms\n",
            "Speed: 2.6ms preprocess, 4650.4ms inference, 1.9ms postprocess per image at shape (1, 3, 640, 640)\n",
            "Image saved successfully at /content/lung-tumor-obb/test/predict/000223_07_01_133_png_jpg.rf.7104f50e578370818e068a79e08104f8.jpg\n",
            "\n",
            "image 1/1 /content/lung-tumor-obb/test/images/000020_04_01_143_png_jpg.rf.1979d244d1b2bc2c7a61d94fd98cf13e.jpg: 640x640 4677.3ms\n",
            "Speed: 3.0ms preprocess, 4677.3ms inference, 1.8ms postprocess per image at shape (1, 3, 640, 640)\n",
            "Image saved successfully at /content/lung-tumor-obb/test/predict/000020_04_01_143_png_jpg.rf.1979d244d1b2bc2c7a61d94fd98cf13e.jpg\n",
            "\n",
            "image 1/1 /content/lung-tumor-obb/test/images/000143_04_02_126_png_jpg.rf.a0d17c3818d84c51f0d6c14517c6dc00.jpg: 640x640 6406.4ms\n",
            "Speed: 3.5ms preprocess, 6406.4ms inference, 1.8ms postprocess per image at shape (1, 3, 640, 640)\n",
            "Image saved successfully at /content/lung-tumor-obb/test/predict/000143_04_02_126_png_jpg.rf.a0d17c3818d84c51f0d6c14517c6dc00.jpg\n",
            "\n",
            "image 1/1 /content/lung-tumor-obb/test/images/000223_05_03_128_png_jpg.rf.65ceaaeff9d3fa775110d5ac73273ea3.jpg: 640x640 4652.3ms\n",
            "Speed: 2.7ms preprocess, 4652.3ms inference, 1.9ms postprocess per image at shape (1, 3, 640, 640)\n",
            "Image saved successfully at /content/lung-tumor-obb/test/predict/000223_05_03_128_png_jpg.rf.65ceaaeff9d3fa775110d5ac73273ea3.jpg\n"
          ]
        }
      ]
    },
    {
      "cell_type": "code",
      "source": [
        "shutil.copy('/content/drive/MyDrive/DL/lung-tumor-seg.zip', '/content/')\n",
        "shutil.copy('/content/drive/MyDrive/DL/lung-tumor-obb.zip', '/content/')\n",
        "shutil.copy('/content/drive/MyDrive/DL/seg_project.zip', '/content/')\n",
        "shutil.copy('/content/drive/MyDrive/DL/obb_project.zip', '/content/')"
      ],
      "metadata": {
        "colab": {
          "base_uri": "https://localhost:8080/",
          "height": 36
        },
        "id": "U2RDzBh0mHeb",
        "outputId": "dc6f657a-ee8e-4802-95e4-4e34b277e64a"
      },
      "execution_count": 6,
      "outputs": [
        {
          "output_type": "execute_result",
          "data": {
            "text/plain": [
              "'/content/obb_project.zip'"
            ],
            "application/vnd.google.colaboratory.intrinsic+json": {
              "type": "string"
            }
          },
          "metadata": {},
          "execution_count": 6
        }
      ]
    },
    {
      "cell_type": "code",
      "source": [
        "shutil.unpack_archive('lung-tumor-seg.zip', '/content/lung-tumor-seg/')\n",
        "shutil.unpack_archive('lung-tumor-obb.zip', '/content/lung-tumor-obb/')\n",
        "shutil.unpack_archive('seg_project.zip', '/content/seg_project/')\n",
        "shutil.unpack_archive('obb_project.zip', '/content/obb_project/')"
      ],
      "metadata": {
        "id": "yaD06CC4nbxb"
      },
      "execution_count": 10,
      "outputs": []
    }
  ]
}